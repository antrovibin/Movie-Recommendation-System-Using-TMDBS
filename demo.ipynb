{
 "cells": [
  {
   "cell_type": "code",
   "execution_count": 51,
   "metadata": {},
   "outputs": [],
   "source": [
    "import numpy as np\n",
    "import pandas as pd\n",
    "import matplotlib.pyplot as plt\n",
    "import seaborn as sns\n",
    "from sklearn.preprocessing import MultiLabelBinarizer, MinMaxScaler, StandardScaler, OneHotEncoder\n",
    "from sklearn.feature_extraction.text import TfidfVectorizer\n",
    "from sklearn.decomposition import TruncatedSVD\n",
    "from sklearn.metrics import mean_squared_error, precision_score, recall_score\n",
    "from sklearn.metrics.pairwise import cosine_similarity\n",
    "from sklearn.model_selection import train_test_split, KFold\n",
    "from implicit.als import AlternatingLeastSquares\n",
    "from scipy.sparse import coo_matrix\n",
    "from sklearn.neighbors import NearestNeighbors\n",
    "import joblib\n",
    "import ast\n"
   ]
  },
  {
   "cell_type": "code",
   "execution_count": 52,
   "metadata": {},
   "outputs": [],
   "source": [
    "movie=pd.read_csv('/Users/antropravin/Desktop/Bezohminds/Task/Movie Recommendation System/Cleaned Movie Data.csv')\n",
    "user=pd.read_csv('/Users/antropravin/Desktop/Bezohminds/Task/Movie Recommendation System/User_Profiles.csv')"
   ]
  },
  {
   "cell_type": "markdown",
   "metadata": {},
   "source": [
    "Movie Data"
   ]
  },
  {
   "cell_type": "code",
   "execution_count": 53,
   "metadata": {},
   "outputs": [
    {
     "data": {
      "text/html": [
       "<div>\n",
       "<style scoped>\n",
       "    .dataframe tbody tr th:only-of-type {\n",
       "        vertical-align: middle;\n",
       "    }\n",
       "\n",
       "    .dataframe tbody tr th {\n",
       "        vertical-align: top;\n",
       "    }\n",
       "\n",
       "    .dataframe thead th {\n",
       "        text-align: right;\n",
       "    }\n",
       "</style>\n",
       "<table border=\"1\" class=\"dataframe\">\n",
       "  <thead>\n",
       "    <tr style=\"text-align: right;\">\n",
       "      <th></th>\n",
       "      <th>Unnamed: 0</th>\n",
       "      <th>movie_id</th>\n",
       "      <th>title</th>\n",
       "      <th>overview</th>\n",
       "      <th>genres</th>\n",
       "      <th>release_date</th>\n",
       "      <th>release_year</th>\n",
       "      <th>runtime</th>\n",
       "      <th>original_language</th>\n",
       "      <th>poster_path</th>\n",
       "      <th>vote_average</th>\n",
       "      <th>vote_count</th>\n",
       "      <th>popularity</th>\n",
       "      <th>production_companies</th>\n",
       "    </tr>\n",
       "  </thead>\n",
       "  <tbody>\n",
       "    <tr>\n",
       "      <th>0</th>\n",
       "      <td>0</td>\n",
       "      <td>447273</td>\n",
       "      <td>Snow White</td>\n",
       "      <td>A princess joins forces with seven dwarfs to l...</td>\n",
       "      <td>Family, Fantasy</td>\n",
       "      <td>2025-03-19</td>\n",
       "      <td>2025</td>\n",
       "      <td>109</td>\n",
       "      <td>en</td>\n",
       "      <td>https://image.tmdb.org/t/p/w500/xWWg47tTfparvj...</td>\n",
       "      <td>3.232</td>\n",
       "      <td>41</td>\n",
       "      <td>24.058</td>\n",
       "      <td>Walt Disney Pictures, Marc Platt Productions</td>\n",
       "    </tr>\n",
       "    <tr>\n",
       "      <th>1</th>\n",
       "      <td>1</td>\n",
       "      <td>1437446</td>\n",
       "      <td>The Twister: Caught in the Storm</td>\n",
       "      <td>In May 2011, a massive tornado ripped through ...</td>\n",
       "      <td>Documentary</td>\n",
       "      <td>2025-03-18</td>\n",
       "      <td>2025</td>\n",
       "      <td>89</td>\n",
       "      <td>en</td>\n",
       "      <td>https://image.tmdb.org/t/p/w500/ggXb37lX9gW4SR...</td>\n",
       "      <td>6.900</td>\n",
       "      <td>8</td>\n",
       "      <td>15.751</td>\n",
       "      <td>RAW</td>\n",
       "    </tr>\n",
       "  </tbody>\n",
       "</table>\n",
       "</div>"
      ],
      "text/plain": [
       "   Unnamed: 0  movie_id                             title  \\\n",
       "0           0    447273                        Snow White   \n",
       "1           1   1437446  The Twister: Caught in the Storm   \n",
       "\n",
       "                                            overview           genres  \\\n",
       "0  A princess joins forces with seven dwarfs to l...  Family, Fantasy   \n",
       "1  In May 2011, a massive tornado ripped through ...      Documentary   \n",
       "\n",
       "  release_date  release_year  runtime original_language  \\\n",
       "0   2025-03-19          2025      109                en   \n",
       "1   2025-03-18          2025       89                en   \n",
       "\n",
       "                                         poster_path  vote_average  \\\n",
       "0  https://image.tmdb.org/t/p/w500/xWWg47tTfparvj...         3.232   \n",
       "1  https://image.tmdb.org/t/p/w500/ggXb37lX9gW4SR...         6.900   \n",
       "\n",
       "   vote_count  popularity                          production_companies  \n",
       "0          41      24.058  Walt Disney Pictures, Marc Platt Productions  \n",
       "1           8      15.751                                           RAW  "
      ]
     },
     "execution_count": 53,
     "metadata": {},
     "output_type": "execute_result"
    }
   ],
   "source": [
    "movie.head(2)"
   ]
  },
  {
   "cell_type": "code",
   "execution_count": 54,
   "metadata": {},
   "outputs": [],
   "source": [
    "movie=movie.drop(columns=['Unnamed: 0', 'poster_path'])"
   ]
  },
  {
   "cell_type": "code",
   "execution_count": 55,
   "metadata": {},
   "outputs": [],
   "source": [
    "movie = movie.dropna(subset=['genres'])"
   ]
  },
  {
   "cell_type": "code",
   "execution_count": 56,
   "metadata": {},
   "outputs": [
    {
     "data": {
      "text/html": [
       "<div>\n",
       "<style scoped>\n",
       "    .dataframe tbody tr th:only-of-type {\n",
       "        vertical-align: middle;\n",
       "    }\n",
       "\n",
       "    .dataframe tbody tr th {\n",
       "        vertical-align: top;\n",
       "    }\n",
       "\n",
       "    .dataframe thead th {\n",
       "        text-align: right;\n",
       "    }\n",
       "</style>\n",
       "<table border=\"1\" class=\"dataframe\">\n",
       "  <thead>\n",
       "    <tr style=\"text-align: right;\">\n",
       "      <th></th>\n",
       "      <th>movie_id</th>\n",
       "      <th>title</th>\n",
       "      <th>overview</th>\n",
       "      <th>genres</th>\n",
       "      <th>release_date</th>\n",
       "      <th>release_year</th>\n",
       "      <th>runtime</th>\n",
       "      <th>original_language</th>\n",
       "      <th>vote_average</th>\n",
       "      <th>vote_count</th>\n",
       "      <th>popularity</th>\n",
       "      <th>production_companies</th>\n",
       "    </tr>\n",
       "  </thead>\n",
       "  <tbody>\n",
       "    <tr>\n",
       "      <th>0</th>\n",
       "      <td>447273</td>\n",
       "      <td>Snow White</td>\n",
       "      <td>A princess joins forces with seven dwarfs to l...</td>\n",
       "      <td>Family, Fantasy</td>\n",
       "      <td>2025-03-19</td>\n",
       "      <td>2025</td>\n",
       "      <td>109</td>\n",
       "      <td>en</td>\n",
       "      <td>3.232</td>\n",
       "      <td>41</td>\n",
       "      <td>24.058</td>\n",
       "      <td>Walt Disney Pictures, Marc Platt Productions</td>\n",
       "    </tr>\n",
       "    <tr>\n",
       "      <th>1</th>\n",
       "      <td>1437446</td>\n",
       "      <td>The Twister: Caught in the Storm</td>\n",
       "      <td>In May 2011, a massive tornado ripped through ...</td>\n",
       "      <td>Documentary</td>\n",
       "      <td>2025-03-18</td>\n",
       "      <td>2025</td>\n",
       "      <td>89</td>\n",
       "      <td>en</td>\n",
       "      <td>6.900</td>\n",
       "      <td>8</td>\n",
       "      <td>15.751</td>\n",
       "      <td>RAW</td>\n",
       "    </tr>\n",
       "  </tbody>\n",
       "</table>\n",
       "</div>"
      ],
      "text/plain": [
       "   movie_id                             title  \\\n",
       "0    447273                        Snow White   \n",
       "1   1437446  The Twister: Caught in the Storm   \n",
       "\n",
       "                                            overview           genres  \\\n",
       "0  A princess joins forces with seven dwarfs to l...  Family, Fantasy   \n",
       "1  In May 2011, a massive tornado ripped through ...      Documentary   \n",
       "\n",
       "  release_date  release_year  runtime original_language  vote_average  \\\n",
       "0   2025-03-19          2025      109                en         3.232   \n",
       "1   2025-03-18          2025       89                en         6.900   \n",
       "\n",
       "   vote_count  popularity                          production_companies  \n",
       "0          41      24.058  Walt Disney Pictures, Marc Platt Productions  \n",
       "1           8      15.751                                           RAW  "
      ]
     },
     "execution_count": 56,
     "metadata": {},
     "output_type": "execute_result"
    }
   ],
   "source": [
    "movie.head(2)"
   ]
  },
  {
   "cell_type": "code",
   "execution_count": 57,
   "metadata": {},
   "outputs": [
    {
     "name": "stdout",
     "output_type": "stream",
     "text": [
      "<class 'pandas.core.frame.DataFrame'>\n",
      "RangeIndex: 9880 entries, 0 to 9879\n",
      "Data columns (total 12 columns):\n",
      " #   Column                Non-Null Count  Dtype  \n",
      "---  ------                --------------  -----  \n",
      " 0   movie_id              9880 non-null   int64  \n",
      " 1   title                 9880 non-null   object \n",
      " 2   overview              9880 non-null   object \n",
      " 3   genres                9880 non-null   object \n",
      " 4   release_date          9880 non-null   object \n",
      " 5   release_year          9880 non-null   int64  \n",
      " 6   runtime               9880 non-null   int64  \n",
      " 7   original_language     9880 non-null   object \n",
      " 8   vote_average          9880 non-null   float64\n",
      " 9   vote_count            9880 non-null   int64  \n",
      " 10  popularity            9880 non-null   float64\n",
      " 11  production_companies  9880 non-null   object \n",
      "dtypes: float64(2), int64(4), object(6)\n",
      "memory usage: 926.4+ KB\n"
     ]
    }
   ],
   "source": [
    "movie.info()"
   ]
  },
  {
   "cell_type": "code",
   "execution_count": 58,
   "metadata": {},
   "outputs": [],
   "source": [
    "#movie['runtime_min'] = movie['runtime']"
   ]
  },
  {
   "cell_type": "code",
   "execution_count": 59,
   "metadata": {},
   "outputs": [],
   "source": [
    "scaler=MinMaxScaler()\n",
    "movie[['popularity','vote_average', 'runtime']]=scaler.fit_transform(movie[['popularity','vote_average', 'runtime']])"
   ]
  },
  {
   "cell_type": "code",
   "execution_count": 60,
   "metadata": {},
   "outputs": [
    {
     "data": {
      "text/html": [
       "<div>\n",
       "<style scoped>\n",
       "    .dataframe tbody tr th:only-of-type {\n",
       "        vertical-align: middle;\n",
       "    }\n",
       "\n",
       "    .dataframe tbody tr th {\n",
       "        vertical-align: top;\n",
       "    }\n",
       "\n",
       "    .dataframe thead th {\n",
       "        text-align: right;\n",
       "    }\n",
       "</style>\n",
       "<table border=\"1\" class=\"dataframe\">\n",
       "  <thead>\n",
       "    <tr style=\"text-align: right;\">\n",
       "      <th></th>\n",
       "      <th>movie_id</th>\n",
       "      <th>title</th>\n",
       "      <th>overview</th>\n",
       "      <th>genres</th>\n",
       "      <th>release_date</th>\n",
       "      <th>release_year</th>\n",
       "      <th>runtime</th>\n",
       "      <th>original_language</th>\n",
       "      <th>vote_average</th>\n",
       "      <th>vote_count</th>\n",
       "      <th>popularity</th>\n",
       "      <th>production_companies</th>\n",
       "    </tr>\n",
       "  </thead>\n",
       "  <tbody>\n",
       "    <tr>\n",
       "      <th>0</th>\n",
       "      <td>447273</td>\n",
       "      <td>Snow White</td>\n",
       "      <td>A princess joins forces with seven dwarfs to l...</td>\n",
       "      <td>Family, Fantasy</td>\n",
       "      <td>2025-03-19</td>\n",
       "      <td>2025</td>\n",
       "      <td>0.252315</td>\n",
       "      <td>en</td>\n",
       "      <td>0.3232</td>\n",
       "      <td>41</td>\n",
       "      <td>1.00000</td>\n",
       "      <td>Walt Disney Pictures, Marc Platt Productions</td>\n",
       "    </tr>\n",
       "    <tr>\n",
       "      <th>1</th>\n",
       "      <td>1437446</td>\n",
       "      <td>The Twister: Caught in the Storm</td>\n",
       "      <td>In May 2011, a massive tornado ripped through ...</td>\n",
       "      <td>Documentary</td>\n",
       "      <td>2025-03-18</td>\n",
       "      <td>2025</td>\n",
       "      <td>0.206019</td>\n",
       "      <td>en</td>\n",
       "      <td>0.6900</td>\n",
       "      <td>8</td>\n",
       "      <td>0.60303</td>\n",
       "      <td>RAW</td>\n",
       "    </tr>\n",
       "  </tbody>\n",
       "</table>\n",
       "</div>"
      ],
      "text/plain": [
       "   movie_id                             title  \\\n",
       "0    447273                        Snow White   \n",
       "1   1437446  The Twister: Caught in the Storm   \n",
       "\n",
       "                                            overview           genres  \\\n",
       "0  A princess joins forces with seven dwarfs to l...  Family, Fantasy   \n",
       "1  In May 2011, a massive tornado ripped through ...      Documentary   \n",
       "\n",
       "  release_date  release_year   runtime original_language  vote_average  \\\n",
       "0   2025-03-19          2025  0.252315                en        0.3232   \n",
       "1   2025-03-18          2025  0.206019                en        0.6900   \n",
       "\n",
       "   vote_count  popularity                          production_companies  \n",
       "0          41     1.00000  Walt Disney Pictures, Marc Platt Productions  \n",
       "1           8     0.60303                                           RAW  "
      ]
     },
     "execution_count": 60,
     "metadata": {},
     "output_type": "execute_result"
    }
   ],
   "source": [
    "movie.head(2)"
   ]
  },
  {
   "cell_type": "markdown",
   "metadata": {},
   "source": [
    "User Data"
   ]
  },
  {
   "cell_type": "code",
   "execution_count": 61,
   "metadata": {},
   "outputs": [
    {
     "name": "stdout",
     "output_type": "stream",
     "text": [
      "<class 'pandas.core.frame.DataFrame'>\n",
      "RangeIndex: 5000 entries, 0 to 4999\n",
      "Data columns (total 11 columns):\n",
      " #   Column                    Non-Null Count  Dtype \n",
      "---  ------                    --------------  ----- \n",
      " 0   user_id                   5000 non-null   int64 \n",
      " 1   watched_movies            5000 non-null   object\n",
      " 2   liked_movies              5000 non-null   object\n",
      " 3   disliked_movies           5000 non-null   object\n",
      " 4   liked_genres              5000 non-null   object\n",
      " 5   disliked_genres           5000 non-null   object\n",
      " 6   language_preferred        5000 non-null   object\n",
      " 7   watch_timestamps          5000 non-null   object\n",
      " 8   user_ratings              5000 non-null   object\n",
      " 9   viewing_frequency         5000 non-null   object\n",
      " 10  fav_production_companies  4987 non-null   object\n",
      "dtypes: int64(1), object(10)\n",
      "memory usage: 429.8+ KB\n"
     ]
    }
   ],
   "source": [
    "user.info()"
   ]
  },
  {
   "cell_type": "code",
   "execution_count": 62,
   "metadata": {},
   "outputs": [
    {
     "name": "stdout",
     "output_type": "stream",
     "text": [
      "Index(['user_id', 'watched_movies', 'liked_movies', 'disliked_movies',\n",
      "       'liked_genres', 'disliked_genres', 'language_preferred',\n",
      "       'watch_timestamps', 'user_ratings', 'viewing_frequency',\n",
      "       'fav_production_companies'],\n",
      "      dtype='object')\n"
     ]
    }
   ],
   "source": [
    "print(user.columns)"
   ]
  },
  {
   "cell_type": "markdown",
   "metadata": {},
   "source": [
    "Converts string representations of lists into actual Python lists"
   ]
  },
  {
   "cell_type": "code",
   "execution_count": 63,
   "metadata": {},
   "outputs": [],
   "source": [
    "user['watched_movies'] = user['watched_movies'].apply(ast.literal_eval)\n",
    "user['liked_movies'] = user['liked_movies'].apply(ast.literal_eval)\n",
    "user['disliked_movies'] = user['disliked_movies'].apply(ast.literal_eval)\n",
    "user['liked_genres'] = user['liked_genres'].apply(ast.literal_eval)\n",
    "user['disliked_genres'] = user['disliked_genres'].apply(ast.literal_eval)"
   ]
  },
  {
   "cell_type": "code",
   "execution_count": 64,
   "metadata": {},
   "outputs": [],
   "source": [
    "mlb=MultiLabelBinarizer()\n",
    "liked_genres_encoded=mlb.fit_transform(user['liked_genres'])\n",
    "disliked_genres_encoded=mlb.transform(user['disliked_genres'])\n",
    "liked_genres_user=pd.DataFrame(liked_genres_encoded, columns=mlb.classes_)\n",
    "disliked_genres_user=pd.DataFrame(disliked_genres_encoded, columns=mlb.classes_)\n",
    "user=pd.concat([user, liked_genres_user,disliked_genres_user],axis=1)"
   ]
  },
  {
   "cell_type": "code",
   "execution_count": 65,
   "metadata": {},
   "outputs": [
    {
     "name": "stdout",
     "output_type": "stream",
     "text": [
      "<class 'pandas.core.frame.DataFrame'>\n",
      "RangeIndex: 5000 entries, 0 to 4999\n",
      "Data columns (total 49 columns):\n",
      " #   Column                    Non-Null Count  Dtype \n",
      "---  ------                    --------------  ----- \n",
      " 0   user_id                   5000 non-null   int64 \n",
      " 1   watched_movies            5000 non-null   object\n",
      " 2   liked_movies              5000 non-null   object\n",
      " 3   disliked_movies           5000 non-null   object\n",
      " 4   liked_genres              5000 non-null   object\n",
      " 5   disliked_genres           5000 non-null   object\n",
      " 6   language_preferred        5000 non-null   object\n",
      " 7   watch_timestamps          5000 non-null   object\n",
      " 8   user_ratings              5000 non-null   object\n",
      " 9   viewing_frequency         5000 non-null   object\n",
      " 10  fav_production_companies  4987 non-null   object\n",
      " 11  Action                    5000 non-null   int64 \n",
      " 12  Adventure                 5000 non-null   int64 \n",
      " 13  Animation                 5000 non-null   int64 \n",
      " 14  Comedy                    5000 non-null   int64 \n",
      " 15  Crime                     5000 non-null   int64 \n",
      " 16  Documentary               5000 non-null   int64 \n",
      " 17  Drama                     5000 non-null   int64 \n",
      " 18  Family                    5000 non-null   int64 \n",
      " 19  Fantasy                   5000 non-null   int64 \n",
      " 20  History                   5000 non-null   int64 \n",
      " 21  Horror                    5000 non-null   int64 \n",
      " 22  Music                     5000 non-null   int64 \n",
      " 23  Mystery                   5000 non-null   int64 \n",
      " 24  Romance                   5000 non-null   int64 \n",
      " 25  Science Fiction           5000 non-null   int64 \n",
      " 26  TV Movie                  5000 non-null   int64 \n",
      " 27  Thriller                  5000 non-null   int64 \n",
      " 28  War                       5000 non-null   int64 \n",
      " 29  Western                   5000 non-null   int64 \n",
      " 30  Action                    5000 non-null   int64 \n",
      " 31  Adventure                 5000 non-null   int64 \n",
      " 32  Animation                 5000 non-null   int64 \n",
      " 33  Comedy                    5000 non-null   int64 \n",
      " 34  Crime                     5000 non-null   int64 \n",
      " 35  Documentary               5000 non-null   int64 \n",
      " 36  Drama                     5000 non-null   int64 \n",
      " 37  Family                    5000 non-null   int64 \n",
      " 38  Fantasy                   5000 non-null   int64 \n",
      " 39  History                   5000 non-null   int64 \n",
      " 40  Horror                    5000 non-null   int64 \n",
      " 41  Music                     5000 non-null   int64 \n",
      " 42  Mystery                   5000 non-null   int64 \n",
      " 43  Romance                   5000 non-null   int64 \n",
      " 44  Science Fiction           5000 non-null   int64 \n",
      " 45  TV Movie                  5000 non-null   int64 \n",
      " 46  Thriller                  5000 non-null   int64 \n",
      " 47  War                       5000 non-null   int64 \n",
      " 48  Western                   5000 non-null   int64 \n",
      "dtypes: int64(39), object(10)\n",
      "memory usage: 1.9+ MB\n"
     ]
    }
   ],
   "source": [
    "user.info()"
   ]
  },
  {
   "cell_type": "code",
   "execution_count": 66,
   "metadata": {},
   "outputs": [],
   "source": [
    "viewing_freq_map = {\n",
    "    'High': 3,\n",
    "    'Medium': 2,\n",
    "    'Low': 1\n",
    "}\n",
    "user['viewing_frequency_numerical'] = user['viewing_frequency'].map(viewing_freq_map)\n",
    "user['viewing_frequency_numerical'] = user['viewing_frequency_numerical'].fillna(0)\n"
   ]
  },
  {
   "cell_type": "code",
   "execution_count": 67,
   "metadata": {},
   "outputs": [
    {
     "name": "stdout",
     "output_type": "stream",
     "text": [
      "[2 1 3]\n"
     ]
    }
   ],
   "source": [
    "print(user['viewing_frequency_numerical'].unique())"
   ]
  },
  {
   "cell_type": "code",
   "execution_count": 68,
   "metadata": {},
   "outputs": [
    {
     "name": "stdout",
     "output_type": "stream",
     "text": [
      "Missung values is:0\n"
     ]
    }
   ],
   "source": [
    "user=user.dropna(subset=['fav_production_companies'])\n",
    "count=user['fav_production_companies'].isnull().sum()\n",
    "print(f\"Missung values is:{count}\")"
   ]
  },
  {
   "cell_type": "markdown",
   "metadata": {},
   "source": [
    "Feature Engineering"
   ]
  },
  {
   "cell_type": "markdown",
   "metadata": {},
   "source": [
    "Movie Dataset:"
   ]
  },
  {
   "cell_type": "code",
   "execution_count": 69,
   "metadata": {},
   "outputs": [
    {
     "name": "stdout",
     "output_type": "stream",
     "text": [
      "['Family, Fantasy' 'Documentary' 'Thriller, Horror' ...\n",
      " 'Drama, Adventure, Fantasy, Science Fiction, War' 'Family'\n",
      " 'Drama, Adventure, Mystery']\n"
     ]
    }
   ],
   "source": [
    "print(movie['genres'].unique())"
   ]
  },
  {
   "cell_type": "code",
   "execution_count": 70,
   "metadata": {},
   "outputs": [],
   "source": [
    "movie['genres_list'] = movie['genres'].apply(lambda x: x.split(', '))"
   ]
  },
  {
   "cell_type": "code",
   "execution_count": 71,
   "metadata": {},
   "outputs": [],
   "source": [
    "genres_encoded = mlb.fit_transform(movie['genres_list'])\n",
    "genres_df = pd.DataFrame(genres_encoded, columns=mlb.classes_)\n",
    "movie = pd.concat([movie, genres_df], axis=1)"
   ]
  },
  {
   "cell_type": "code",
   "execution_count": 72,
   "metadata": {},
   "outputs": [],
   "source": [
    "##movie = movie.drop(columns=['genres'])"
   ]
  },
  {
   "cell_type": "code",
   "execution_count": 73,
   "metadata": {},
   "outputs": [
    {
     "name": "stdout",
     "output_type": "stream",
     "text": [
      "<class 'pandas.core.frame.DataFrame'>\n",
      "RangeIndex: 9880 entries, 0 to 9879\n",
      "Data columns (total 33 columns):\n",
      " #   Column                Non-Null Count  Dtype  \n",
      "---  ------                --------------  -----  \n",
      " 0   movie_id              9880 non-null   int64  \n",
      " 1   title                 9880 non-null   object \n",
      " 2   overview              9880 non-null   object \n",
      " 3   genres                9880 non-null   object \n",
      " 4   release_date          9880 non-null   object \n",
      " 5   release_year          9880 non-null   int64  \n",
      " 6   runtime               9880 non-null   float64\n",
      " 7   original_language     9880 non-null   object \n",
      " 8   vote_average          9880 non-null   float64\n",
      " 9   vote_count            9880 non-null   int64  \n",
      " 10  popularity            9880 non-null   float64\n",
      " 11  production_companies  9880 non-null   object \n",
      " 12  genres_list           9880 non-null   object \n",
      " 13  Action                9880 non-null   int64  \n",
      " 14  Adventure             9880 non-null   int64  \n",
      " 15  Animation             9880 non-null   int64  \n",
      " 16  Comedy                9880 non-null   int64  \n",
      " 17  Crime                 9880 non-null   int64  \n",
      " 18  Documentary           9880 non-null   int64  \n",
      " 19  Drama                 9880 non-null   int64  \n",
      " 20  Family                9880 non-null   int64  \n",
      " 21  Fantasy               9880 non-null   int64  \n",
      " 22  History               9880 non-null   int64  \n",
      " 23  Horror                9880 non-null   int64  \n",
      " 24  Music                 9880 non-null   int64  \n",
      " 25  Mystery               9880 non-null   int64  \n",
      " 26  Romance               9880 non-null   int64  \n",
      " 27  Science Fiction       9880 non-null   int64  \n",
      " 28  TV Movie              9880 non-null   int64  \n",
      " 29  Thriller              9880 non-null   int64  \n",
      " 30  War                   9880 non-null   int64  \n",
      " 31  Western               9880 non-null   int64  \n",
      " 32  decade                9880 non-null   int64  \n",
      "dtypes: float64(3), int64(23), object(7)\n",
      "memory usage: 2.5+ MB\n"
     ]
    }
   ],
   "source": [
    "movie['decade'] = (movie['release_year'] // 10) * 10\n",
    "movie.info()"
   ]
  },
  {
   "cell_type": "markdown",
   "metadata": {},
   "source": [
    "User Dataset"
   ]
  },
  {
   "cell_type": "code",
   "execution_count": 74,
   "metadata": {},
   "outputs": [],
   "source": [
    "genre_columns = mlb.classes_\n",
    "for genre in genre_columns:\n",
    "    user[f'liked_{genre}_preference'] = user['liked_genres'].apply(lambda x: genre in x).astype(int)"
   ]
  },
  {
   "cell_type": "code",
   "execution_count": 75,
   "metadata": {},
   "outputs": [
    {
     "name": "stdout",
     "output_type": "stream",
     "text": [
      "<class 'pandas.core.frame.DataFrame'>\n",
      "Int64Index: 4987 entries, 0 to 4999\n",
      "Data columns (total 69 columns):\n",
      " #   Column                            Non-Null Count  Dtype \n",
      "---  ------                            --------------  ----- \n",
      " 0   user_id                           4987 non-null   int64 \n",
      " 1   watched_movies                    4987 non-null   object\n",
      " 2   liked_movies                      4987 non-null   object\n",
      " 3   disliked_movies                   4987 non-null   object\n",
      " 4   liked_genres                      4987 non-null   object\n",
      " 5   disliked_genres                   4987 non-null   object\n",
      " 6   language_preferred                4987 non-null   object\n",
      " 7   watch_timestamps                  4987 non-null   object\n",
      " 8   user_ratings                      4987 non-null   object\n",
      " 9   viewing_frequency                 4987 non-null   object\n",
      " 10  fav_production_companies          4987 non-null   object\n",
      " 11  Action                            4987 non-null   int64 \n",
      " 12  Adventure                         4987 non-null   int64 \n",
      " 13  Animation                         4987 non-null   int64 \n",
      " 14  Comedy                            4987 non-null   int64 \n",
      " 15  Crime                             4987 non-null   int64 \n",
      " 16  Documentary                       4987 non-null   int64 \n",
      " 17  Drama                             4987 non-null   int64 \n",
      " 18  Family                            4987 non-null   int64 \n",
      " 19  Fantasy                           4987 non-null   int64 \n",
      " 20  History                           4987 non-null   int64 \n",
      " 21  Horror                            4987 non-null   int64 \n",
      " 22  Music                             4987 non-null   int64 \n",
      " 23  Mystery                           4987 non-null   int64 \n",
      " 24  Romance                           4987 non-null   int64 \n",
      " 25  Science Fiction                   4987 non-null   int64 \n",
      " 26  TV Movie                          4987 non-null   int64 \n",
      " 27  Thriller                          4987 non-null   int64 \n",
      " 28  War                               4987 non-null   int64 \n",
      " 29  Western                           4987 non-null   int64 \n",
      " 30  Action                            4987 non-null   int64 \n",
      " 31  Adventure                         4987 non-null   int64 \n",
      " 32  Animation                         4987 non-null   int64 \n",
      " 33  Comedy                            4987 non-null   int64 \n",
      " 34  Crime                             4987 non-null   int64 \n",
      " 35  Documentary                       4987 non-null   int64 \n",
      " 36  Drama                             4987 non-null   int64 \n",
      " 37  Family                            4987 non-null   int64 \n",
      " 38  Fantasy                           4987 non-null   int64 \n",
      " 39  History                           4987 non-null   int64 \n",
      " 40  Horror                            4987 non-null   int64 \n",
      " 41  Music                             4987 non-null   int64 \n",
      " 42  Mystery                           4987 non-null   int64 \n",
      " 43  Romance                           4987 non-null   int64 \n",
      " 44  Science Fiction                   4987 non-null   int64 \n",
      " 45  TV Movie                          4987 non-null   int64 \n",
      " 46  Thriller                          4987 non-null   int64 \n",
      " 47  War                               4987 non-null   int64 \n",
      " 48  Western                           4987 non-null   int64 \n",
      " 49  viewing_frequency_numerical       4987 non-null   int64 \n",
      " 50  liked_Action_preference           4987 non-null   int64 \n",
      " 51  liked_Adventure_preference        4987 non-null   int64 \n",
      " 52  liked_Animation_preference        4987 non-null   int64 \n",
      " 53  liked_Comedy_preference           4987 non-null   int64 \n",
      " 54  liked_Crime_preference            4987 non-null   int64 \n",
      " 55  liked_Documentary_preference      4987 non-null   int64 \n",
      " 56  liked_Drama_preference            4987 non-null   int64 \n",
      " 57  liked_Family_preference           4987 non-null   int64 \n",
      " 58  liked_Fantasy_preference          4987 non-null   int64 \n",
      " 59  liked_History_preference          4987 non-null   int64 \n",
      " 60  liked_Horror_preference           4987 non-null   int64 \n",
      " 61  liked_Music_preference            4987 non-null   int64 \n",
      " 62  liked_Mystery_preference          4987 non-null   int64 \n",
      " 63  liked_Romance_preference          4987 non-null   int64 \n",
      " 64  liked_Science Fiction_preference  4987 non-null   int64 \n",
      " 65  liked_TV Movie_preference         4987 non-null   int64 \n",
      " 66  liked_Thriller_preference         4987 non-null   int64 \n",
      " 67  liked_War_preference              4987 non-null   int64 \n",
      " 68  liked_Western_preference          4987 non-null   int64 \n",
      "dtypes: int64(59), object(10)\n",
      "memory usage: 2.7+ MB\n"
     ]
    }
   ],
   "source": [
    "user.info()"
   ]
  },
  {
   "cell_type": "code",
   "execution_count": 76,
   "metadata": {},
   "outputs": [],
   "source": [
    "user_movie_interaction = pd.DataFrame(0, index=user['user_id'], columns=movie['movie_id'])\n",
    "for i, row in user.iterrows():\n",
    "    for movie_id in row['liked_movies']:\n",
    "        user_movie_interaction.loc[row['user_id'], movie_id] = 1"
   ]
  },
  {
   "cell_type": "code",
   "execution_count": 77,
   "metadata": {},
   "outputs": [],
   "source": [
    "user_production_companies_encoded = pd.get_dummies(user['fav_production_companies'], prefix='production_company')\n",
    "user = pd.concat([user, user_production_companies_encoded], axis=1)"
   ]
  },
  {
   "cell_type": "code",
   "execution_count": 78,
   "metadata": {},
   "outputs": [
    {
     "name": "stdout",
     "output_type": "stream",
     "text": [
      "<class 'pandas.core.frame.DataFrame'>\n",
      "Int64Index: 4987 entries, 0 to 4999\n",
      "Columns: 939 entries, user_id to production_company_Yong Film\n",
      "dtypes: int64(59), object(10), uint8(870)\n",
      "memory usage: 6.8+ MB\n"
     ]
    }
   ],
   "source": [
    "user.info()"
   ]
  },
  {
   "cell_type": "markdown",
   "metadata": {},
   "source": [
    "## Model Selection & Training"
   ]
  },
  {
   "cell_type": "markdown",
   "metadata": {},
   "source": [
    "- 1.Collaborative Filtering (Matrix Factorization using SVD) \n",
    "- 2.Content-Based Filtering"
   ]
  },
  {
   "cell_type": "markdown",
   "metadata": {},
   "source": [
    "### Collaborative Filtering using SVD (Singular Value Decomposition)"
   ]
  },
  {
   "cell_type": "code",
   "execution_count": 79,
   "metadata": {},
   "outputs": [],
   "source": [
    "svd = TruncatedSVD(n_components=50, random_state=42)\n",
    "svd_matrix = svd.fit_transform(user_movie_interaction.fillna(0))\n",
    "svd_reconstructed = np.dot(svd_matrix, svd.components_)"
   ]
  },
  {
   "cell_type": "code",
   "execution_count": 80,
   "metadata": {},
   "outputs": [
    {
     "name": "stdout",
     "output_type": "stream",
     "text": [
      "Mean Squared Error: 0.0009652109454170243\n"
     ]
    }
   ],
   "source": [
    "mse = mean_squared_error(user_movie_interaction.fillna(0), svd_reconstructed)\n",
    "print(f'Mean Squared Error: {mse}')"
   ]
  },
  {
   "cell_type": "markdown",
   "metadata": {},
   "source": [
    "### Content-Based Filtering"
   ]
  },
  {
   "cell_type": "code",
   "execution_count": 81,
   "metadata": {},
   "outputs": [],
   "source": [
    "movie_features = movie[['release_year', 'popularity', 'runtime'] + list(genres_df.columns)]"
   ]
  },
  {
   "cell_type": "code",
   "execution_count": 82,
   "metadata": {},
   "outputs": [],
   "source": [
    "scaler = StandardScaler()\n",
    "movie_features_scaled = scaler.fit_transform(movie_features)\n",
    "cosine_sim = cosine_similarity(movie_features_scaled)"
   ]
  },
  {
   "cell_type": "code",
   "execution_count": 83,
   "metadata": {},
   "outputs": [],
   "source": [
    "def get_content_based_recommendations(movie_id, cosine_sim, movie_df, top_n=10):\n",
    "    print(f\"Requested movie_id: {movie_id}\")\n",
    "    print(f\"Available movie_ids in movie_df: {movie_df['movie_id'].unique()}\")\n",
    "    if movie_id not in movie_df['movie_id'].values:\n",
    "        print(f\"Movie ID {movie_id} not found in the movie dataframe.\")\n",
    "        return pd.DataFrame() \n",
    "    idx = movie_df[movie_df['movie_id'] == movie_id].index[0]\n",
    "    sim_scores = list(enumerate(cosine_sim[idx]))\n",
    "    sim_scores = sorted(sim_scores, key=lambda x: x[1], reverse=True)\n",
    "    sim_scores = sim_scores[1:top_n + 1]\n",
    "    movie_indices = [i[0] for i in sim_scores]\n",
    "    return movie_df.iloc[movie_indices][['movie_id', 'title', 'genres']]"
   ]
  },
  {
   "cell_type": "code",
   "execution_count": 84,
   "metadata": {},
   "outputs": [
    {
     "name": "stdout",
     "output_type": "stream",
     "text": [
      "Requested movie_id: 1726\n",
      "Available movie_ids in movie_df: [ 447273 1437446 1204967 ...  518978  517024  515908]\n",
      "      movie_id                       title                              genres\n",
      "4079     13475                   Star Trek  Science Fiction, Action, Adventure\n",
      "466      10138                  Iron Man 2  Adventure, Action, Science Fiction\n",
      "1017     20526                TRON: Legacy  Adventure, Action, Science Fiction\n",
      "579      68721                  Iron Man 3  Action, Adventure, Science Fiction\n",
      "907     127585  X-Men: Days of Future Past  Action, Adventure, Science Fiction\n"
     ]
    }
   ],
   "source": [
    "recommendations = get_content_based_recommendations(1726, cosine_sim, movie, top_n=5)\n",
    "print(recommendations)"
   ]
  },
  {
   "cell_type": "markdown",
   "metadata": {},
   "source": [
    "### Hybrid Model"
   ]
  },
  {
   "cell_type": "code",
   "execution_count": 85,
   "metadata": {},
   "outputs": [],
   "source": [
    "user_movie_interaction = pd.DataFrame(0, index=user['user_id'], columns=movie['movie_id'])"
   ]
  },
  {
   "cell_type": "code",
   "execution_count": 86,
   "metadata": {},
   "outputs": [],
   "source": [
    "for i, row in user.iterrows():\n",
    "    for movie_id in row['liked_movies']:\n",
    "        user_movie_interaction.loc[row['user_id'], movie_id] = 1\n",
    "user_similarity = cosine_similarity(user_movie_interaction.fillna(0))\n",
    "user_similarity_df = pd.DataFrame(user_similarity, index=user['user_id'], columns=user['user_id'])"
   ]
  },
  {
   "cell_type": "code",
   "execution_count": 87,
   "metadata": {},
   "outputs": [
    {
     "name": "stdout",
     "output_type": "stream",
     "text": [
      "user_id  1     2     3       4       5     6     7         8         9     \\\n",
      "user_id                                                                     \n",
      "1         1.0   0.0   0.0  0.0000  0.0000   0.0   0.0  0.000000  0.083333   \n",
      "2         0.0   1.0   0.0  0.0000  0.0000   0.0   0.0  0.069007  0.000000   \n",
      "3         0.0   0.0   1.0  0.0000  0.0000   0.0   0.0  0.000000  0.000000   \n",
      "4         0.0   0.0   0.0  1.0000  0.1557   0.0   0.0  0.155700  0.000000   \n",
      "5         0.0   0.0   0.0  0.1557  1.0000   0.0   0.0  0.000000  0.000000   \n",
      "\n",
      "user_id  10    ...  4991  4992      4993  4994  4995      4996  4997  \\\n",
      "user_id        ...                                                     \n",
      "1         0.0  ...   0.0   0.0  0.000000   0.0   0.0  0.000000   0.0   \n",
      "2         0.0  ...   0.0   0.0  0.000000   0.0   0.0  0.089087   0.0   \n",
      "3         0.0  ...   0.0   0.0  0.000000   0.0   0.0  0.000000   0.0   \n",
      "4         0.0  ...   0.0   0.0  0.000000   0.0   0.0  0.000000   0.0   \n",
      "5         0.0  ...   0.0   0.0  0.057735   0.0   0.0  0.000000   0.0   \n",
      "\n",
      "user_id      4998  4999  5000  \n",
      "user_id                        \n",
      "1        0.117851   0.0   0.0  \n",
      "2        0.000000   0.0   0.0  \n",
      "3        0.000000   0.0   0.0  \n",
      "4        0.000000   0.0   0.0  \n",
      "5        0.000000   0.0   0.0  \n",
      "\n",
      "[5 rows x 4987 columns]\n"
     ]
    }
   ],
   "source": [
    "print(user_similarity_df.head())"
   ]
  },
  {
   "cell_type": "code",
   "execution_count": 88,
   "metadata": {},
   "outputs": [],
   "source": [
    "def hybrid_recommendation(user_id, movie_id, content_sim, user_sim, movie_df, user_movie_interaction, alpha=0.5, top_n=5):\n",
    "    idx = movie_df[movie_df['movie_id'] == movie_id].index[0]\n",
    "    content_sim_scores = list(enumerate(content_sim[idx]))\n",
    "    content_sim_scores = sorted(content_sim_scores, key=lambda x: x[1], reverse=True)\n",
    "    user_idx = user_movie_interaction[user_movie_interaction.index == user_id].index[0]\n",
    "    user_sim_scores = user_sim[user_idx]\n",
    "    content_sim_scores = [score[1] for score in content_sim_scores]\n",
    "    content_sim_scores = [score / max(content_sim_scores) for score in content_sim_scores] \n",
    "    user_sim_scores = user_sim_scores.tolist()\n",
    "    user_sim_scores = [score / max(user_sim_scores) for score in user_sim_scores]\n",
    "    hybrid_scores = []\n",
    "    for i, (content_score, user_score) in enumerate(zip(content_sim_scores, user_sim_scores)):\n",
    "        combined_score = alpha * content_score + (1 - alpha) * user_score\n",
    "        hybrid_scores.append((movie_df.iloc[i]['movie_id'], movie_df.iloc[i]['title'], combined_score))\n",
    "    hybrid_scores = sorted(hybrid_scores, key=lambda x: x[2], reverse=True)\n",
    "    top_recommendations = hybrid_scores[:top_n]\n",
    "    print(f\"Top {top_n} Hybrid Recommendations for User {user_id} on Movie {movie_id}:\")\n",
    "    for movie in top_recommendations:\n",
    "        print(f\"Movie ID: {movie[0]}, Title: {movie[1]}, Combined Score: {movie[2]}\")\n",
    "    \n",
    "    return top_recommendations"
   ]
  },
  {
   "cell_type": "code",
   "execution_count": 89,
   "metadata": {},
   "outputs": [
    {
     "name": "stdout",
     "output_type": "stream",
     "text": [
      "Top 5 Hybrid Recommendations for User 1 on Movie 1726:\n",
      "Movie ID: 1437446, Title: The Twister: Caught in the Storm, Combined Score: 0.9998764974505508\n",
      "Movie ID: 1436366, Title: Jasmine That Blooms in Autumn, Combined Score: 0.5849660028938579\n",
      "Movie ID: 1436712, Title: Girl-Boy, Combined Score: 0.5381568836293948\n",
      "Movie ID: 1434009, Title: We Live Here, Combined Score: 0.5355395769714884\n",
      "Movie ID: 1417181, Title: Dawn of Impressionism: Paris 1874, Combined Score: 0.5322756375666748\n"
     ]
    }
   ],
   "source": [
    "user_id = 1 \n",
    "movie_id = 1726\n",
    "recommendations = hybrid_recommendation(user_id, movie_id, cosine_sim, user_similarity, movie, user_movie_interaction, top_n=5)"
   ]
  },
  {
   "cell_type": "code",
   "execution_count": 90,
   "metadata": {},
   "outputs": [
    {
     "name": "stdout",
     "output_type": "stream",
     "text": [
      "Top 5 Hybrid Recommendations for User 5 on Movie 1726:\n",
      "Movie ID: 1437920, Title: Centered: Joe Lieberman, Combined Score: 0.998284782507556\n",
      "Movie ID: 1440404, Title: Ambivalence, Combined Score: 0.582440863891718\n",
      "Movie ID: 1441966, Title: Take the Money and Run, Combined Score: 0.5562170041066365\n",
      "Movie ID: 1436815, Title: Oy'una Geldik, Combined Score: 0.5513961923696953\n",
      "Movie ID: 1434009, Title: We Live Here, Combined Score: 0.5281460135182078\n",
      "[(1437920, 'Centered: Joe Lieberman', 0.998284782507556), (1440404, 'Ambivalence', 0.582440863891718), (1441966, 'Take the Money and Run', 0.5562170041066365), (1436815, \"Oy'una Geldik\", 0.5513961923696953), (1434009, 'We Live Here', 0.5281460135182078)]\n"
     ]
    }
   ],
   "source": [
    "recommendations = hybrid_recommendation(5, 1726, cosine_sim, user_similarity, movie, user_movie_interaction, top_n=5)\n",
    "print(recommendations)"
   ]
  },
  {
   "cell_type": "markdown",
   "metadata": {},
   "source": [
    "## Model Training"
   ]
  },
  {
   "cell_type": "code",
   "execution_count": 91,
   "metadata": {},
   "outputs": [
    {
     "name": "stdout",
     "output_type": "stream",
     "text": [
      "Precision@5: 0.0\n",
      "Recall@5: 0.0\n"
     ]
    }
   ],
   "source": [
    "def evaluate_recommendations(user_id, movie_id, recommendations, top_n=5):\n",
    "    actual_liked_movies = user.loc[user['user_id'] == user_id, 'liked_movies'].values[0]\n",
    "    recommended_movies = [movie[0] for movie in recommendations] \n",
    "    relevant_recommended_movies = [movie for movie in recommended_movies if movie in actual_liked_movies]\n",
    "    precision_at_k = len(relevant_recommended_movies) / top_n if top_n > 0 else 0\n",
    "    recall_at_k = len(relevant_recommended_movies) / len(actual_liked_movies) if len(actual_liked_movies) > 0 else 0\n",
    "    print(f\"Precision@{top_n}: {precision_at_k}\")\n",
    "    print(f\"Recall@{top_n}: {recall_at_k}\")\n",
    "    return precision_at_k, recall_at_k\n",
    "precision, recall = evaluate_recommendations(1, 1726, recommendations, top_n=5)"
   ]
  },
  {
   "cell_type": "code",
   "execution_count": 92,
   "metadata": {},
   "outputs": [
    {
     "name": "stdout",
     "output_type": "stream",
     "text": [
      "Top 5 Hybrid Recommendations for User 1 on Movie 1726:\n",
      "Movie ID: 1437446, Title: The Twister: Caught in the Storm, Combined Score: 0.9998764974505508\n",
      "Movie ID: 1436366, Title: Jasmine That Blooms in Autumn, Combined Score: 0.5849660028938579\n",
      "Movie ID: 1436712, Title: Girl-Boy, Combined Score: 0.5381568836293948\n",
      "Movie ID: 1434009, Title: We Live Here, Combined Score: 0.5355395769714884\n",
      "Movie ID: 1417181, Title: Dawn of Impressionism: Paris 1874, Combined Score: 0.5322756375666748\n",
      "Precision@5: 0.0\n",
      "Recall@5: 0.0\n",
      "Top 5 Hybrid Recommendations for User 1 on Movie 447273:\n",
      "Movie ID: 1437446, Title: The Twister: Caught in the Storm, Combined Score: 0.9464313346145627\n",
      "Movie ID: 447273, Title: Snow White, Combined Score: 0.5\n",
      "Movie ID: 1436366, Title: Jasmine That Blooms in Autumn, Combined Score: 0.48793457167229354\n",
      "Movie ID: 1417181, Title: Dawn of Impressionism: Paris 1874, Combined Score: 0.47784615651284723\n",
      "Movie ID: 1434009, Title: We Live Here, Combined Score: 0.4671139334491524\n",
      "Precision@5: 0.0\n",
      "Recall@5: 0.0\n",
      "Top 5 Hybrid Recommendations for User 1 on Movie 1204967:\n",
      "Movie ID: 1437446, Title: The Twister: Caught in the Storm, Combined Score: 0.9999900835940565\n",
      "Movie ID: 1436366, Title: Jasmine That Blooms in Autumn, Combined Score: 0.5371698285580916\n",
      "Movie ID: 1417181, Title: Dawn of Impressionism: Paris 1874, Combined Score: 0.5286528001987214\n",
      "Movie ID: 1434009, Title: We Live Here, Combined Score: 0.5183261481523472\n",
      "Movie ID: 1437603, Title: 3 Days, Combined Score: 0.5117899001656574\n",
      "Precision@5: 0.0\n",
      "Recall@5: 0.0\n",
      "Top 5 Hybrid Recommendations for User 2 on Movie 1726:\n",
      "Movie ID: 1204967, Title: USAH: Uncommon Stories of American Horror, Combined Score: 0.9995505019472266\n",
      "Movie ID: 1425366, Title: Witch, Combined Score: 0.5858143440042943\n",
      "Movie ID: 1266809, Title: The Safe House, Combined Score: 0.5388887336318976\n",
      "Movie ID: 447273, Title: Snow White, Combined Score: 0.5\n",
      "Movie ID: 1437446, Title: The Twister: Caught in the Storm, Combined Score: 0.49987649745055085\n",
      "Precision@5: 0.0\n",
      "Recall@5: 0.0\n",
      "Top 5 Hybrid Recommendations for User 2 on Movie 447273:\n",
      "Movie ID: 1204967, Title: USAH: Uncommon Stories of American Horror, Combined Score: 0.9449986020861239\n",
      "Movie ID: 1425366, Title: Witch, Combined Score: 0.510125042232679\n",
      "Movie ID: 447273, Title: Snow White, Combined Score: 0.5\n",
      "Movie ID: 1266809, Title: The Safe House, Combined Score: 0.4757925334240214\n",
      "Movie ID: 1437446, Title: The Twister: Caught in the Storm, Combined Score: 0.44643133461456275\n",
      "Precision@5: 0.0\n",
      "Recall@5: 0.0\n",
      "Top 5 Hybrid Recommendations for User 2 on Movie 1204967:\n",
      "Movie ID: 1204967, Title: USAH: Uncommon Stories of American Horror, Combined Score: 0.9991978102309522\n",
      "Movie ID: 1425366, Title: Witch, Combined Score: 0.5548784241800341\n",
      "Movie ID: 1266809, Title: The Safe House, Combined Score: 0.5352457862009109\n",
      "Movie ID: 447273, Title: Snow White, Combined Score: 0.5\n",
      "Movie ID: 1437446, Title: The Twister: Caught in the Storm, Combined Score: 0.49999008359405644\n",
      "Precision@5: 0.0\n",
      "Recall@5: 0.0\n",
      "Top 5 Hybrid Recommendations for User 3 on Movie 1726:\n",
      "Movie ID: 675776, Title: Persona, Combined Score: 0.9995149175223255\n",
      "Movie ID: 696506, Title: Mickey 17, Combined Score: 0.5767984636174384\n",
      "Movie ID: 1054283, Title: Growing Down, Combined Score: 0.5765674198205362\n",
      "Movie ID: 1442322, Title: Lost for Words, Combined Score: 0.5758786090575877\n",
      "Movie ID: 1417181, Title: Dawn of Impressionism: Paris 1874, Combined Score: 0.5756222540157094\n",
      "Precision@5: 0.0\n",
      "Recall@5: 0.0\n",
      "Top 5 Hybrid Recommendations for User 3 on Movie 447273:\n",
      "Movie ID: 675776, Title: Persona, Combined Score: 0.9448892107949116\n",
      "Movie ID: 696506, Title: Mickey 17, Combined Score: 0.5220274724438965\n",
      "Movie ID: 1417181, Title: Dawn of Impressionism: Paris 1874, Combined Score: 0.5211927729618818\n",
      "Movie ID: 1262495, Title: Sariri, Combined Score: 0.5048473011377466\n",
      "Movie ID: 1437603, Title: 3 Days, Combined Score: 0.5000422657451433\n",
      "Precision@5: 0.0\n",
      "Recall@5: 0.0\n",
      "Top 5 Hybrid Recommendations for User 3 on Movie 1204967:\n",
      "Movie ID: 675776, Title: Persona, Combined Score: 0.9991978102309522\n",
      "Movie ID: 696506, Title: Mickey 17, Combined Score: 0.5765815174542014\n",
      "Movie ID: 1417181, Title: Dawn of Impressionism: Paris 1874, Combined Score: 0.5719994166477559\n",
      "Movie ID: 1262495, Title: Sariri, Combined Score: 0.5661153158771981\n",
      "Movie ID: 1437603, Title: 3 Days, Combined Score: 0.5525069564007622\n",
      "Precision@5: 0.0\n",
      "Recall@5: 0.0\n",
      "Average Precision@5: 0.0\n",
      "Average Recall@5: 0.0\n"
     ]
    }
   ],
   "source": [
    "def evaluate_for_multiple_users(user_ids, movie_ids, top_n=5):\n",
    "    precisions = []\n",
    "    recalls = []\n",
    "    for user_id in user_ids:\n",
    "        for movie_id in movie_ids:\n",
    "            recommendations = hybrid_recommendation(user_id, movie_id, cosine_sim, user_similarity, movie, user_movie_interaction, top_n=top_n)\n",
    "            precision, recall = evaluate_recommendations(user_id, movie_id, recommendations, top_n)\n",
    "            precisions.append(precision)\n",
    "            recalls.append(recall)\n",
    "    avg_precision = sum(precisions) / len(precisions) if len(precisions) > 0 else 0\n",
    "    avg_recall = sum(recalls) / len(recalls) if len(recalls) > 0 else 0\n",
    "    print(f\"Average Precision@{top_n}: {avg_precision}\")\n",
    "    print(f\"Average Recall@{top_n}: {avg_recall}\")\n",
    "    return avg_precision, avg_recall\n",
    "user_ids = [1, 2, 3]\n",
    "movie_ids = [1726, 447273, 1204967]\n",
    "avg_precision, avg_recall = evaluate_for_multiple_users(user_ids, movie_ids, top_n=5)"
   ]
  },
  {
   "cell_type": "code",
   "execution_count": 93,
   "metadata": {},
   "outputs": [
    {
     "name": "stdout",
     "output_type": "stream",
     "text": [
      "Top 5 Hybrid Recommendations for User 1 on Movie 1726:\n",
      "Movie ID: 1437446, Title: The Twister: Caught in the Storm, Combined Score: 0.9998764974505508\n",
      "Movie ID: 1436366, Title: Jasmine That Blooms in Autumn, Combined Score: 0.5849660028938579\n",
      "Movie ID: 1436712, Title: Girl-Boy, Combined Score: 0.5381568836293948\n",
      "Movie ID: 1434009, Title: We Live Here, Combined Score: 0.5355395769714884\n",
      "Movie ID: 1417181, Title: Dawn of Impressionism: Paris 1874, Combined Score: 0.5322756375666748\n",
      "Precision@5: 0.0\n",
      "Recall@5: 0.0\n",
      "Top 5 Hybrid Recommendations for User 1 on Movie 447273:\n",
      "Movie ID: 1437446, Title: The Twister: Caught in the Storm, Combined Score: 0.9464313346145627\n",
      "Movie ID: 447273, Title: Snow White, Combined Score: 0.5\n",
      "Movie ID: 1436366, Title: Jasmine That Blooms in Autumn, Combined Score: 0.48793457167229354\n",
      "Movie ID: 1417181, Title: Dawn of Impressionism: Paris 1874, Combined Score: 0.47784615651284723\n",
      "Movie ID: 1434009, Title: We Live Here, Combined Score: 0.4671139334491524\n",
      "Precision@5: 0.0\n",
      "Recall@5: 0.0\n",
      "Top 5 Hybrid Recommendations for User 1 on Movie 1204967:\n",
      "Movie ID: 1437446, Title: The Twister: Caught in the Storm, Combined Score: 0.9999900835940565\n",
      "Movie ID: 1436366, Title: Jasmine That Blooms in Autumn, Combined Score: 0.5371698285580916\n",
      "Movie ID: 1417181, Title: Dawn of Impressionism: Paris 1874, Combined Score: 0.5286528001987214\n",
      "Movie ID: 1434009, Title: We Live Here, Combined Score: 0.5183261481523472\n",
      "Movie ID: 1437603, Title: 3 Days, Combined Score: 0.5117899001656574\n",
      "Precision@5: 0.0\n",
      "Recall@5: 0.0\n",
      "Top 5 Hybrid Recommendations for User 2 on Movie 1726:\n",
      "Movie ID: 1204967, Title: USAH: Uncommon Stories of American Horror, Combined Score: 0.9995505019472266\n",
      "Movie ID: 1425366, Title: Witch, Combined Score: 0.5858143440042943\n",
      "Movie ID: 1266809, Title: The Safe House, Combined Score: 0.5388887336318976\n",
      "Movie ID: 447273, Title: Snow White, Combined Score: 0.5\n",
      "Movie ID: 1437446, Title: The Twister: Caught in the Storm, Combined Score: 0.49987649745055085\n",
      "Precision@5: 0.0\n",
      "Recall@5: 0.0\n",
      "Top 5 Hybrid Recommendations for User 2 on Movie 447273:\n",
      "Movie ID: 1204967, Title: USAH: Uncommon Stories of American Horror, Combined Score: 0.9449986020861239\n",
      "Movie ID: 1425366, Title: Witch, Combined Score: 0.510125042232679\n",
      "Movie ID: 447273, Title: Snow White, Combined Score: 0.5\n",
      "Movie ID: 1266809, Title: The Safe House, Combined Score: 0.4757925334240214\n",
      "Movie ID: 1437446, Title: The Twister: Caught in the Storm, Combined Score: 0.44643133461456275\n",
      "Precision@5: 0.0\n",
      "Recall@5: 0.0\n",
      "Top 5 Hybrid Recommendations for User 2 on Movie 1204967:\n",
      "Movie ID: 1204967, Title: USAH: Uncommon Stories of American Horror, Combined Score: 0.9991978102309522\n",
      "Movie ID: 1425366, Title: Witch, Combined Score: 0.5548784241800341\n",
      "Movie ID: 1266809, Title: The Safe House, Combined Score: 0.5352457862009109\n",
      "Movie ID: 447273, Title: Snow White, Combined Score: 0.5\n",
      "Movie ID: 1437446, Title: The Twister: Caught in the Storm, Combined Score: 0.49999008359405644\n",
      "Precision@5: 0.0\n",
      "Recall@5: 0.0\n",
      "Top 5 Hybrid Recommendations for User 3 on Movie 1726:\n",
      "Movie ID: 675776, Title: Persona, Combined Score: 0.9995149175223255\n",
      "Movie ID: 696506, Title: Mickey 17, Combined Score: 0.5767984636174384\n",
      "Movie ID: 1054283, Title: Growing Down, Combined Score: 0.5765674198205362\n",
      "Movie ID: 1442322, Title: Lost for Words, Combined Score: 0.5758786090575877\n",
      "Movie ID: 1417181, Title: Dawn of Impressionism: Paris 1874, Combined Score: 0.5756222540157094\n",
      "Precision@5: 0.0\n",
      "Recall@5: 0.0\n",
      "Top 5 Hybrid Recommendations for User 3 on Movie 447273:\n",
      "Movie ID: 675776, Title: Persona, Combined Score: 0.9448892107949116\n",
      "Movie ID: 696506, Title: Mickey 17, Combined Score: 0.5220274724438965\n",
      "Movie ID: 1417181, Title: Dawn of Impressionism: Paris 1874, Combined Score: 0.5211927729618818\n",
      "Movie ID: 1262495, Title: Sariri, Combined Score: 0.5048473011377466\n",
      "Movie ID: 1437603, Title: 3 Days, Combined Score: 0.5000422657451433\n",
      "Precision@5: 0.0\n",
      "Recall@5: 0.0\n",
      "Top 5 Hybrid Recommendations for User 3 on Movie 1204967:\n",
      "Movie ID: 675776, Title: Persona, Combined Score: 0.9991978102309522\n",
      "Movie ID: 696506, Title: Mickey 17, Combined Score: 0.5765815174542014\n",
      "Movie ID: 1417181, Title: Dawn of Impressionism: Paris 1874, Combined Score: 0.5719994166477559\n",
      "Movie ID: 1262495, Title: Sariri, Combined Score: 0.5661153158771981\n",
      "Movie ID: 1437603, Title: 3 Days, Combined Score: 0.5525069564007622\n",
      "Precision@5: 0.0\n",
      "Recall@5: 0.0\n",
      "Average Precision@5: 0.0\n",
      "Average Recall@5: 0.0\n",
      "Hybrid Model Evaluation Metrics (Top 5 Recommendations):\n",
      "Average Precision@5: 0.0000\n",
      "Average Recall@5: 0.0000\n"
     ]
    },
    {
     "data": {
      "text/plain": [
       "(0.0, 0.0)"
      ]
     },
     "execution_count": 93,
     "metadata": {},
     "output_type": "execute_result"
    }
   ],
   "source": [
    "def evaluate_hybrid_model(user_ids, movie_ids, top_n=5):\n",
    "    avg_precision, avg_recall = evaluate_for_multiple_users(user_ids, movie_ids, top_n)\n",
    "    \n",
    "    print(f\"Hybrid Model Evaluation Metrics (Top {top_n} Recommendations):\")\n",
    "    print(f\"Average Precision@{top_n}: {avg_precision:.4f}\")\n",
    "    print(f\"Average Recall@{top_n}: {avg_recall:.4f}\")\n",
    "    \n",
    "    return avg_precision, avg_recall\n",
    "evaluate_hybrid_model(user_ids=[1, 2, 3], movie_ids=[1726, 447273, 1204967], top_n=5)"
   ]
  },
  {
   "cell_type": "code",
   "execution_count": 94,
   "metadata": {},
   "outputs": [
    {
     "name": "stdout",
     "output_type": "stream",
     "text": [
      "Mean Squared Error (MSE): 0.0009652109454170243\n"
     ]
    }
   ],
   "source": [
    "mse = mean_squared_error(user_movie_interaction.fillna(0), svd_reconstructed)\n",
    "print(f'Mean Squared Error (MSE): {mse}')"
   ]
  },
  {
   "cell_type": "markdown",
   "metadata": {},
   "source": [
    "Combined collaborative filtering (SVD + user similarity) and content-based filtering (cosine similarity) into a hybrid recommendation system and set up the evaluation framework to assess the performance of your model"
   ]
  },
  {
   "cell_type": "code",
   "execution_count": 95,
   "metadata": {},
   "outputs": [
    {
     "name": "stdout",
     "output_type": "stream",
     "text": [
      "Successfully saved the processed data\n"
     ]
    }
   ],
   "source": [
    "movie.to_csv('processed_movie_data.csv', index=False) \n",
    "user.to_csv('processed_user_data.csv', index=False)\n",
    "print(\"Successfully saved the processed data\")"
   ]
  },
  {
   "cell_type": "markdown",
   "metadata": {},
   "source": [
    "#### Model"
   ]
  },
  {
   "cell_type": "code",
   "execution_count": 45,
   "metadata": {},
   "outputs": [],
   "source": [
    "user[\"liked_movies\"] = user[\"liked_movies\"].apply(lambda x: eval(x) if isinstance(x, str) else x)"
   ]
  },
  {
   "cell_type": "code",
   "execution_count": 46,
   "metadata": {},
   "outputs": [],
   "source": [
    "best_mse = float(\"inf\")\n",
    "best_n_components = 50"
   ]
  },
  {
   "cell_type": "code",
   "execution_count": 47,
   "metadata": {},
   "outputs": [
    {
     "name": "stdout",
     "output_type": "stream",
     "text": [
      "Best n_components: 150, MSE: 0.0008283749625260083\n"
     ]
    }
   ],
   "source": [
    "for n in [10, 20, 50, 100, 150]:\n",
    "    svd = TruncatedSVD(n_components=n, random_state=42)\n",
    "    svd_matrix = svd.fit_transform(user_movie_interaction.fillna(0))\n",
    "    svd_reconstructed = np.dot(svd_matrix, svd.components_)\n",
    "    mse = mean_squared_error(user_movie_interaction.fillna(0), svd_reconstructed)\n",
    "    if mse < best_mse:\n",
    "        best_mse = mse\n",
    "        best_n_components = n\n",
    "\n",
    "print(f\"Best n_components: {best_n_components}, MSE: {best_mse}\")"
   ]
  },
  {
   "cell_type": "code",
   "execution_count": 48,
   "metadata": {},
   "outputs": [],
   "source": [
    "def recommend_for_new_user(preferred_genres, language_preference, top_n=5):\n",
    "    filtered_movies = movies[movies[\"genres\"].apply(lambda x: any(genre in x for genre in preferred_genres))]\n",
    "    if language_preference:\n",
    "        filtered_movies = filtered_movies[filtered_movies[\"original_language\"] == language_preference]\n",
    "    return filtered_movies.sort_values(by=\"popularity\", ascending=False).head(top_n)"
   ]
  },
  {
   "cell_type": "code",
   "execution_count": 49,
   "metadata": {},
   "outputs": [],
   "source": [
    "def evaluate_recommendations(user_id, recommendations, top_n=5):\n",
    "    actual_liked_movies = users.loc[users[\"user_id\"] == user_id, \"liked_movies\"].values[0]\n",
    "    recommended_movies = [movie[\"movie_id\"] for movie in recommendations]\n",
    "    relevant_recommended_movies = [m for m in recommended_movies if m in actual_liked_movies]\n",
    "    precision = len(relevant_recommended_movies) / top_n if top_n > 0 else 0\n",
    "    recall = len(relevant_recommended_movies) / len(actual_liked_movies) if len(actual_liked_movies) > 0 else 0\n",
    "    return precision, recall"
   ]
  },
  {
   "cell_type": "markdown",
   "metadata": {},
   "source": [
    "## TESTING"
   ]
  },
  {
   "cell_type": "code",
   "execution_count": 96,
   "metadata": {},
   "outputs": [],
   "source": [
    "import numpy as np\n",
    "import pandas as pd\n",
    "from flask import Flask, render_template, request, jsonify\n",
    "from sklearn.decomposition import TruncatedSVD\n",
    "from sklearn.metrics.pairwise import cosine_similarity\n",
    "from sklearn.preprocessing import StandardScaler\n",
    "\n",
    "# Read movie and user data\n",
    "movies = pd.read_csv(\"/Users/antropravin/Desktop/Bezohminds/Task/Movie Recommendation System/processed_movie_data.csv\")  # Ensure this contains 'movie_id', 'title', 'genres'\n",
    "users = pd.read_csv(\"/Users/antropravin/Desktop/Bezohminds/Task/Movie Recommendation System/processed_user_data.csv\")  # Ensure this contains 'user_id', 'liked_movies'\n",
    "\n",
    "# Convert liked_movies from string to list\n",
    "users[\"liked_movies\"] = users[\"liked_movies\"].apply(lambda x: eval(x) if isinstance(x, str) else x)\n",
    "\n",
    "# Movie-User Interaction Matrix\n",
    "user_movie_interaction = pd.DataFrame(0, index=users['user_id'], columns=movies['movie_id'])\n",
    "\n",
    "# Fill in the interaction matrix\n",
    "for i, row in users.iterrows():\n",
    "    for movie_id in row['liked_movies']:\n",
    "        user_movie_interaction.loc[row['user_id'], movie_id] = 1\n",
    "\n",
    "# SVD Model (TruncatedSVD for dimensionality reduction)\n",
    "svd = TruncatedSVD(n_components=50, random_state=42)\n",
    "svd_matrix = svd.fit_transform(user_movie_interaction.fillna(0))\n",
    "svd_reconstructed = np.dot(svd_matrix, svd.components_)\n",
    "\n",
    "# Similarity Matrix for Content-Based Filtering (Cosine Similarity)\n",
    "scaler = StandardScaler()\n",
    "movie_features_scaled = scaler.fit_transform(movies.iloc[:, 13:33])  # Assuming genres columns start from index 13\n",
    "cosine_sim = cosine_similarity(movie_features_scaled)\n",
    "\n",
    "# Content-Based Recommendation Function\n",
    "def get_content_based_recommendations(movie_id, cosine_sim, top_n=10):\n",
    "    idx = movies[movies['movie_id'] == movie_id].index[0]\n",
    "    sim_scores = list(enumerate(cosine_sim[idx]))\n",
    "    sim_scores = sorted(sim_scores, key=lambda x: x[1], reverse=True)\n",
    "    sim_scores = sim_scores[1:top_n + 1]\n",
    "    movie_indices = [i[0] for i in sim_scores]\n",
    "    return movies.iloc[movie_indices][['movie_id', 'title', 'genres']]\n",
    "\n",
    "# Hybrid Recommendation Function\n",
    "def hybrid_recommendation(user_id, movie_id, alpha=0.5, top_n=5):\n",
    "    # Content-based scores\n",
    "    idx = movies[movies['movie_id'] == movie_id].index[0]\n",
    "    content_sim_scores = list(enumerate(cosine_sim[idx]))\n",
    "    content_sim_scores = sorted(content_sim_scores, key=lambda x: x[1], reverse=True)\n",
    "\n",
    "    # User-based similarity scores\n",
    "    user_idx = user_movie_interaction[user_movie_interaction.index == user_id].index[0]\n",
    "    user_sim_scores = cosine_similarity(user_movie_interaction.loc[user_idx].values.reshape(1, -1), user_movie_interaction.fillna(0))\n",
    "    user_sim_scores = user_sim_scores.flatten()\n",
    "\n",
    "    content_sim_scores = [score[1] for score in content_sim_scores]\n",
    "    content_sim_scores = [score / max(content_sim_scores) for score in content_sim_scores]\n",
    "    user_sim_scores = user_sim_scores.tolist()\n",
    "    user_sim_scores = [score / max(user_sim_scores) for score in user_sim_scores]\n",
    "\n",
    "    # Combine scores\n",
    "    hybrid_scores = []\n",
    "    for i, (content_score, user_score) in enumerate(zip(content_sim_scores, user_sim_scores)):\n",
    "        combined_score = alpha * content_score + (1 - alpha) * user_score\n",
    "        hybrid_scores.append((movies.iloc[i]['movie_id'], movies.iloc[i]['title'], combined_score))\n",
    "\n",
    "    hybrid_scores = sorted(hybrid_scores, key=lambda x: x[2], reverse=True)\n",
    "    return hybrid_scores[:top_n]\n",
    "\n",
    "# Function to Handle Cold Start (New User)\n",
    "def recommend_for_new_user(preferred_genres, language_preference, top_n=5):\n",
    "    filtered_movies = movies[movies[\"genres\"].apply(lambda x: any(genre in x for genre in preferred_genres))]\n",
    "    if language_preference:\n",
    "        filtered_movies = filtered_movies[filtered_movies[\"original_language\"] == language_preference]\n",
    "    return filtered_movies.sort_values(by=\"popularity\", ascending=False).head(top_n)\n",
    "\n",
    "# Flask app setup\n",
    "app = Flask(__name__)\n",
    "\n",
    "@app.route(\"/\")\n",
    "def home():\n",
    "    return render_template(\"index.html\")  # Serve the HTML page\n",
    "\n",
    "@app.route(\"/recommend\", methods=[\"GET\"])\n",
    "def recommend():\n",
    "    try:\n",
    "        # Get parameters from the URL\n",
    "        user_id = int(request.args.get(\"user_id\"))\n",
    "        movie_id = int(request.args.get(\"movie_id\"))\n",
    "        top_n = int(request.args.get(\"top_n\", 5))\n",
    "\n",
    "        # Log inputs for debugging\n",
    "        print(f\"Received request with user_id: {user_id}, movie_id: {movie_id}, top_n: {top_n}\")\n",
    "\n",
    "        # Check if the user exists in the users DataFrame\n",
    "        user = users[users[\"user_id\"] == user_id]\n",
    "        if user.empty:\n",
    "            print(f\"No user found with user_id {user_id}\")  # Log this error\n",
    "            return jsonify({\"message\": f\"No user found with user_id {user_id}\"}), 404\n",
    "\n",
    "        # Check if the movie exists in the movies DataFrame\n",
    "        movie = movies[movies[\"movie_id\"] == movie_id]\n",
    "        if movie.empty:\n",
    "            print(f\"No movie found with movie_id {movie_id}\")  # Log this error\n",
    "            return jsonify({\"message\": f\"No movie found with movie_id {movie_id}\"}), 404\n",
    "\n",
    "        # Get the liked_movies list for the user\n",
    "        liked_movies = user.iloc[0][\"liked_movies\"]\n",
    "        \n",
    "        if not liked_movies:\n",
    "            # Cold Start: New User (No watched history)\n",
    "            preferred_genres = [\"Action\", \"Comedy\"]  # This can be dynamic based on user data\n",
    "            language_preference = \"en\"\n",
    "            recommendations = recommend_for_new_user(preferred_genres, language_preference, top_n)\n",
    "            return jsonify({\"message\": \"New User - No watched history\", \"recommendations\": recommendations.to_dict(orient=\"records\")})\n",
    "\n",
    "        # Hybrid Recommendation\n",
    "        recommendations = hybrid_recommendation(user_id, movie_id, alpha=0.5, top_n=top_n)\n",
    "\n",
    "        # Convert the recommendation data to native Python types (e.g., int) to avoid JSON serialization issues\n",
    "        recommendations = [\n",
    "            {\n",
    "                \"movie_id\": int(movie[0]),  # Convert numpy.int64 to int\n",
    "                \"title\": movie[1],\n",
    "                \"combined_score\": movie[2]\n",
    "            }\n",
    "            for movie in recommendations\n",
    "        ]\n",
    "\n",
    "        return jsonify({\"user_id\": user_id, \"movie_id\": movie_id, \"recommendations\": recommendations})\n",
    "\n",
    "    except Exception as e:\n",
    "        # Log the error and provide detailed message\n",
    "        print(f\"Error occurred: {str(e)}\")  # This will print the error in the console/logs\n",
    "        return jsonify({\"error\": f\"An error occurred while fetching recommendations: {str(e)}\"}), 500\n",
    "\n",
    "@app.route(\"/movie-details\", methods=[\"GET\"])\n",
    "def movie_details():\n",
    "    try:\n",
    "        movie_id = int(request.args.get(\"movie_id\"))\n",
    "\n",
    "        # Check if the movie exists\n",
    "        movie = movies[movies[\"movie_id\"] == movie_id]\n",
    "        if movie.empty:\n",
    "            print(f\"No movie found with movie_id {movie_id}\")  # Log this error\n",
    "            return jsonify({\"message\": f\"No movie found with movie_id {movie_id}\"}), 404\n",
    "\n",
    "        # Fetch the movie details\n",
    "        movie_details = movie.iloc[0]\n",
    "\n",
    "        # Prepare the response data\n",
    "        response = {\n",
    "            \"title\": movie_details[\"title\"],\n",
    "            \"overview\": movie_details[\"overview\"],\n",
    "            \"genres\": movie_details[\"genres\"],\n",
    "            \"release_date\": movie_details[\"release_date\"],\n",
    "            \"original_language\": movie_details[\"original_language\"],\n",
    "            \"runtime\": movie_details[\"runtime\"]\n",
    "        }\n",
    "\n",
    "        return jsonify(response)\n",
    "\n",
    "    except Exception as e:\n",
    "        # Log the error and provide detailed message\n",
    "        print(f\"Error occurred: {str(e)}\")\n",
    "        return jsonify({\"error\": f\"An error occurred while fetching movie details: {str(e)}\"}), 500"
   ]
  },
  {
   "cell_type": "code",
   "execution_count": 50,
   "metadata": {},
   "outputs": [
    {
     "ename": "ValueError",
     "evalue": "malformed node or string on line 1: <ast.Name object at 0x158a5e770>",
     "output_type": "error",
     "traceback": [
      "\u001b[0;31m---------------------------------------------------------------------------\u001b[0m",
      "\u001b[0;31mValueError\u001b[0m                                Traceback (most recent call last)",
      "Cell \u001b[0;32mIn[50], line 19\u001b[0m\n\u001b[1;32m     17\u001b[0m mlb \u001b[38;5;241m=\u001b[39m MultiLabelBinarizer()\n\u001b[1;32m     18\u001b[0m \u001b[38;5;66;03m# Safely parse the genres column using ast.literal_eval()\u001b[39;00m\n\u001b[0;32m---> 19\u001b[0m genre_one_hot \u001b[38;5;241m=\u001b[39m mlb\u001b[38;5;241m.\u001b[39mfit_transform(\u001b[43mmovies\u001b[49m\u001b[43m[\u001b[49m\u001b[38;5;124;43m'\u001b[39;49m\u001b[38;5;124;43mgenres\u001b[39;49m\u001b[38;5;124;43m'\u001b[39;49m\u001b[43m]\u001b[49m\u001b[38;5;241;43m.\u001b[39;49m\u001b[43mapply\u001b[49m\u001b[43m(\u001b[49m\u001b[43mast\u001b[49m\u001b[38;5;241;43m.\u001b[39;49m\u001b[43mliteral_eval\u001b[49m\u001b[43m)\u001b[49m)  \u001b[38;5;66;03m# Assuming genres are stored as string lists\u001b[39;00m\n\u001b[1;32m     21\u001b[0m \u001b[38;5;66;03m# Convert the result into a DataFrame and concatenate it with the original movies DataFrame\u001b[39;00m\n\u001b[1;32m     22\u001b[0m genre_columns \u001b[38;5;241m=\u001b[39m mlb\u001b[38;5;241m.\u001b[39mclasses_\n",
      "File \u001b[0;32m~/anaconda3/lib/python3.10/site-packages/pandas/core/series.py:4771\u001b[0m, in \u001b[0;36mSeries.apply\u001b[0;34m(self, func, convert_dtype, args, **kwargs)\u001b[0m\n\u001b[1;32m   4661\u001b[0m \u001b[38;5;28;01mdef\u001b[39;00m\u001b[38;5;250m \u001b[39m\u001b[38;5;21mapply\u001b[39m(\n\u001b[1;32m   4662\u001b[0m     \u001b[38;5;28mself\u001b[39m,\n\u001b[1;32m   4663\u001b[0m     func: AggFuncType,\n\u001b[0;32m   (...)\u001b[0m\n\u001b[1;32m   4666\u001b[0m     \u001b[38;5;241m*\u001b[39m\u001b[38;5;241m*\u001b[39mkwargs,\n\u001b[1;32m   4667\u001b[0m ) \u001b[38;5;241m-\u001b[39m\u001b[38;5;241m>\u001b[39m DataFrame \u001b[38;5;241m|\u001b[39m Series:\n\u001b[1;32m   4668\u001b[0m \u001b[38;5;250m    \u001b[39m\u001b[38;5;124;03m\"\"\"\u001b[39;00m\n\u001b[1;32m   4669\u001b[0m \u001b[38;5;124;03m    Invoke function on values of Series.\u001b[39;00m\n\u001b[1;32m   4670\u001b[0m \n\u001b[0;32m   (...)\u001b[0m\n\u001b[1;32m   4769\u001b[0m \u001b[38;5;124;03m    dtype: float64\u001b[39;00m\n\u001b[1;32m   4770\u001b[0m \u001b[38;5;124;03m    \"\"\"\u001b[39;00m\n\u001b[0;32m-> 4771\u001b[0m     \u001b[38;5;28;01mreturn\u001b[39;00m \u001b[43mSeriesApply\u001b[49m\u001b[43m(\u001b[49m\u001b[38;5;28;43mself\u001b[39;49m\u001b[43m,\u001b[49m\u001b[43m \u001b[49m\u001b[43mfunc\u001b[49m\u001b[43m,\u001b[49m\u001b[43m \u001b[49m\u001b[43mconvert_dtype\u001b[49m\u001b[43m,\u001b[49m\u001b[43m \u001b[49m\u001b[43margs\u001b[49m\u001b[43m,\u001b[49m\u001b[43m \u001b[49m\u001b[43mkwargs\u001b[49m\u001b[43m)\u001b[49m\u001b[38;5;241;43m.\u001b[39;49m\u001b[43mapply\u001b[49m\u001b[43m(\u001b[49m\u001b[43m)\u001b[49m\n",
      "File \u001b[0;32m~/anaconda3/lib/python3.10/site-packages/pandas/core/apply.py:1123\u001b[0m, in \u001b[0;36mSeriesApply.apply\u001b[0;34m(self)\u001b[0m\n\u001b[1;32m   1120\u001b[0m     \u001b[38;5;28;01mreturn\u001b[39;00m \u001b[38;5;28mself\u001b[39m\u001b[38;5;241m.\u001b[39mapply_str()\n\u001b[1;32m   1122\u001b[0m \u001b[38;5;66;03m# self.f is Callable\u001b[39;00m\n\u001b[0;32m-> 1123\u001b[0m \u001b[38;5;28;01mreturn\u001b[39;00m \u001b[38;5;28;43mself\u001b[39;49m\u001b[38;5;241;43m.\u001b[39;49m\u001b[43mapply_standard\u001b[49m\u001b[43m(\u001b[49m\u001b[43m)\u001b[49m\n",
      "File \u001b[0;32m~/anaconda3/lib/python3.10/site-packages/pandas/core/apply.py:1174\u001b[0m, in \u001b[0;36mSeriesApply.apply_standard\u001b[0;34m(self)\u001b[0m\n\u001b[1;32m   1172\u001b[0m     \u001b[38;5;28;01melse\u001b[39;00m:\n\u001b[1;32m   1173\u001b[0m         values \u001b[38;5;241m=\u001b[39m obj\u001b[38;5;241m.\u001b[39mastype(\u001b[38;5;28mobject\u001b[39m)\u001b[38;5;241m.\u001b[39m_values\n\u001b[0;32m-> 1174\u001b[0m         mapped \u001b[38;5;241m=\u001b[39m \u001b[43mlib\u001b[49m\u001b[38;5;241;43m.\u001b[39;49m\u001b[43mmap_infer\u001b[49m\u001b[43m(\u001b[49m\n\u001b[1;32m   1175\u001b[0m \u001b[43m            \u001b[49m\u001b[43mvalues\u001b[49m\u001b[43m,\u001b[49m\n\u001b[1;32m   1176\u001b[0m \u001b[43m            \u001b[49m\u001b[43mf\u001b[49m\u001b[43m,\u001b[49m\n\u001b[1;32m   1177\u001b[0m \u001b[43m            \u001b[49m\u001b[43mconvert\u001b[49m\u001b[38;5;241;43m=\u001b[39;49m\u001b[38;5;28;43mself\u001b[39;49m\u001b[38;5;241;43m.\u001b[39;49m\u001b[43mconvert_dtype\u001b[49m\u001b[43m,\u001b[49m\n\u001b[1;32m   1178\u001b[0m \u001b[43m        \u001b[49m\u001b[43m)\u001b[49m\n\u001b[1;32m   1180\u001b[0m \u001b[38;5;28;01mif\u001b[39;00m \u001b[38;5;28mlen\u001b[39m(mapped) \u001b[38;5;129;01mand\u001b[39;00m \u001b[38;5;28misinstance\u001b[39m(mapped[\u001b[38;5;241m0\u001b[39m], ABCSeries):\n\u001b[1;32m   1181\u001b[0m     \u001b[38;5;66;03m# GH#43986 Need to do list(mapped) in order to get treated as nested\u001b[39;00m\n\u001b[1;32m   1182\u001b[0m     \u001b[38;5;66;03m#  See also GH#25959 regarding EA support\u001b[39;00m\n\u001b[1;32m   1183\u001b[0m     \u001b[38;5;28;01mreturn\u001b[39;00m obj\u001b[38;5;241m.\u001b[39m_constructor_expanddim(\u001b[38;5;28mlist\u001b[39m(mapped), index\u001b[38;5;241m=\u001b[39mobj\u001b[38;5;241m.\u001b[39mindex)\n",
      "File \u001b[0;32m~/anaconda3/lib/python3.10/site-packages/pandas/_libs/lib.pyx:2924\u001b[0m, in \u001b[0;36mpandas._libs.lib.map_infer\u001b[0;34m()\u001b[0m\n",
      "File \u001b[0;32m~/anaconda3/lib/python3.10/ast.py:110\u001b[0m, in \u001b[0;36mliteral_eval\u001b[0;34m(node_or_string)\u001b[0m\n\u001b[1;32m    108\u001b[0m                 \u001b[38;5;28;01mreturn\u001b[39;00m left \u001b[38;5;241m-\u001b[39m right\n\u001b[1;32m    109\u001b[0m     \u001b[38;5;28;01mreturn\u001b[39;00m _convert_signed_num(node)\n\u001b[0;32m--> 110\u001b[0m \u001b[38;5;28;01mreturn\u001b[39;00m \u001b[43m_convert\u001b[49m\u001b[43m(\u001b[49m\u001b[43mnode_or_string\u001b[49m\u001b[43m)\u001b[49m\n",
      "File \u001b[0;32m~/anaconda3/lib/python3.10/ast.py:88\u001b[0m, in \u001b[0;36mliteral_eval.<locals>._convert\u001b[0;34m(node)\u001b[0m\n\u001b[1;32m     86\u001b[0m     \u001b[38;5;28;01mreturn\u001b[39;00m node\u001b[38;5;241m.\u001b[39mvalue\n\u001b[1;32m     87\u001b[0m \u001b[38;5;28;01melif\u001b[39;00m \u001b[38;5;28misinstance\u001b[39m(node, Tuple):\n\u001b[0;32m---> 88\u001b[0m     \u001b[38;5;28;01mreturn\u001b[39;00m \u001b[38;5;28;43mtuple\u001b[39;49m\u001b[43m(\u001b[49m\u001b[38;5;28;43mmap\u001b[39;49m\u001b[43m(\u001b[49m\u001b[43m_convert\u001b[49m\u001b[43m,\u001b[49m\u001b[43m \u001b[49m\u001b[43mnode\u001b[49m\u001b[38;5;241;43m.\u001b[39;49m\u001b[43melts\u001b[49m\u001b[43m)\u001b[49m\u001b[43m)\u001b[49m\n\u001b[1;32m     89\u001b[0m \u001b[38;5;28;01melif\u001b[39;00m \u001b[38;5;28misinstance\u001b[39m(node, List):\n\u001b[1;32m     90\u001b[0m     \u001b[38;5;28;01mreturn\u001b[39;00m \u001b[38;5;28mlist\u001b[39m(\u001b[38;5;28mmap\u001b[39m(_convert, node\u001b[38;5;241m.\u001b[39melts))\n",
      "File \u001b[0;32m~/anaconda3/lib/python3.10/ast.py:109\u001b[0m, in \u001b[0;36mliteral_eval.<locals>._convert\u001b[0;34m(node)\u001b[0m\n\u001b[1;32m    107\u001b[0m         \u001b[38;5;28;01melse\u001b[39;00m:\n\u001b[1;32m    108\u001b[0m             \u001b[38;5;28;01mreturn\u001b[39;00m left \u001b[38;5;241m-\u001b[39m right\n\u001b[0;32m--> 109\u001b[0m \u001b[38;5;28;01mreturn\u001b[39;00m \u001b[43m_convert_signed_num\u001b[49m\u001b[43m(\u001b[49m\u001b[43mnode\u001b[49m\u001b[43m)\u001b[49m\n",
      "File \u001b[0;32m~/anaconda3/lib/python3.10/ast.py:83\u001b[0m, in \u001b[0;36mliteral_eval.<locals>._convert_signed_num\u001b[0;34m(node)\u001b[0m\n\u001b[1;32m     81\u001b[0m     \u001b[38;5;28;01melse\u001b[39;00m:\n\u001b[1;32m     82\u001b[0m         \u001b[38;5;28;01mreturn\u001b[39;00m \u001b[38;5;241m-\u001b[39m operand\n\u001b[0;32m---> 83\u001b[0m \u001b[38;5;28;01mreturn\u001b[39;00m \u001b[43m_convert_num\u001b[49m\u001b[43m(\u001b[49m\u001b[43mnode\u001b[49m\u001b[43m)\u001b[49m\n",
      "File \u001b[0;32m~/anaconda3/lib/python3.10/ast.py:74\u001b[0m, in \u001b[0;36mliteral_eval.<locals>._convert_num\u001b[0;34m(node)\u001b[0m\n\u001b[1;32m     72\u001b[0m \u001b[38;5;28;01mdef\u001b[39;00m\u001b[38;5;250m \u001b[39m\u001b[38;5;21m_convert_num\u001b[39m(node):\n\u001b[1;32m     73\u001b[0m     \u001b[38;5;28;01mif\u001b[39;00m \u001b[38;5;129;01mnot\u001b[39;00m \u001b[38;5;28misinstance\u001b[39m(node, Constant) \u001b[38;5;129;01mor\u001b[39;00m \u001b[38;5;28mtype\u001b[39m(node\u001b[38;5;241m.\u001b[39mvalue) \u001b[38;5;129;01mnot\u001b[39;00m \u001b[38;5;129;01min\u001b[39;00m (\u001b[38;5;28mint\u001b[39m, \u001b[38;5;28mfloat\u001b[39m, \u001b[38;5;28mcomplex\u001b[39m):\n\u001b[0;32m---> 74\u001b[0m         \u001b[43m_raise_malformed_node\u001b[49m\u001b[43m(\u001b[49m\u001b[43mnode\u001b[49m\u001b[43m)\u001b[49m\n\u001b[1;32m     75\u001b[0m     \u001b[38;5;28;01mreturn\u001b[39;00m node\u001b[38;5;241m.\u001b[39mvalue\n",
      "File \u001b[0;32m~/anaconda3/lib/python3.10/ast.py:71\u001b[0m, in \u001b[0;36mliteral_eval.<locals>._raise_malformed_node\u001b[0;34m(node)\u001b[0m\n\u001b[1;32m     69\u001b[0m \u001b[38;5;28;01mif\u001b[39;00m lno \u001b[38;5;241m:=\u001b[39m \u001b[38;5;28mgetattr\u001b[39m(node, \u001b[38;5;124m'\u001b[39m\u001b[38;5;124mlineno\u001b[39m\u001b[38;5;124m'\u001b[39m, \u001b[38;5;28;01mNone\u001b[39;00m):\n\u001b[1;32m     70\u001b[0m     msg \u001b[38;5;241m+\u001b[39m\u001b[38;5;241m=\u001b[39m \u001b[38;5;124mf\u001b[39m\u001b[38;5;124m'\u001b[39m\u001b[38;5;124m on line \u001b[39m\u001b[38;5;132;01m{\u001b[39;00mlno\u001b[38;5;132;01m}\u001b[39;00m\u001b[38;5;124m'\u001b[39m\n\u001b[0;32m---> 71\u001b[0m \u001b[38;5;28;01mraise\u001b[39;00m \u001b[38;5;167;01mValueError\u001b[39;00m(msg \u001b[38;5;241m+\u001b[39m \u001b[38;5;124mf\u001b[39m\u001b[38;5;124m'\u001b[39m\u001b[38;5;124m: \u001b[39m\u001b[38;5;132;01m{\u001b[39;00mnode\u001b[38;5;132;01m!r}\u001b[39;00m\u001b[38;5;124m'\u001b[39m)\n",
      "\u001b[0;31mValueError\u001b[0m: malformed node or string on line 1: <ast.Name object at 0x158a5e770>"
     ]
    }
   ],
   "source": [
    "import numpy as np\n",
    "import pandas as pd\n",
    "import ast  # Import ast for safe evaluation\n",
    "from flask import Flask, render_template, request, jsonify\n",
    "from sklearn.decomposition import TruncatedSVD\n",
    "from sklearn.metrics.pairwise import cosine_similarity\n",
    "from sklearn.preprocessing import StandardScaler, MultiLabelBinarizer\n",
    "\n",
    "# Read movie and user data\n",
    "movies = pd.read_csv(\"/Users/antropravin/Desktop/Bezohminds/Task/Movie Recommendation System/processed_movie_data.csv\")  # Ensure this contains 'movie_id', 'title', 'genres'\n",
    "users = pd.read_csv(\"/Users/antropravin/Desktop/Bezohminds/Task/Movie Recommendation System/processed_user_data.csv\")  # Ensure this contains 'user_id', 'liked_movies'\n",
    "\n",
    "# Convert liked_movies from string to list\n",
    "users[\"liked_movies\"] = users[\"liked_movies\"].apply(lambda x: ast.literal_eval(x) if isinstance(x, str) else x)\n",
    "\n",
    "# One-Hot Encoding the genres column\n",
    "mlb = MultiLabelBinarizer()\n",
    "# Safely parse the genres column using ast.literal_eval()\n",
    "genre_one_hot = mlb.fit_transform(movies['genres'].apply(ast.literal_eval))  # Assuming genres are stored as string lists\n",
    "\n",
    "# Convert the result into a DataFrame and concatenate it with the original movies DataFrame\n",
    "genre_columns = mlb.classes_\n",
    "genre_df = pd.DataFrame(genre_one_hot, columns=genre_columns)\n",
    "\n",
    "# Now merge the one-hot encoded genres with the movies DataFrame\n",
    "movies = pd.concat([movies, genre_df], axis=1)\n",
    "\n",
    "# Movie-User Interaction Matrix\n",
    "user_movie_interaction = pd.DataFrame(0, index=users['user_id'], columns=movies['movie_id'])\n",
    "\n",
    "# Fill in the interaction matrix\n",
    "for i, row in users.iterrows():\n",
    "    for movie_id in row['liked_movies']:\n",
    "        user_movie_interaction.loc[row['user_id'], movie_id] = 1\n",
    "\n",
    "# SVD Model (TruncatedSVD for dimensionality reduction)\n",
    "svd = TruncatedSVD(n_components=50, random_state=42)\n",
    "svd_matrix = svd.fit_transform(user_movie_interaction.fillna(0))\n",
    "svd_reconstructed = np.dot(svd_matrix, svd.components_)\n",
    "\n",
    "# Similarity Matrix for Content-Based Filtering (Cosine Similarity)\n",
    "scaler = StandardScaler()\n",
    "movie_features_scaled = scaler.fit_transform(movies[genre_columns])  # Only use the new one-hot encoded columns\n",
    "cosine_sim = cosine_similarity(movie_features_scaled)\n",
    "\n",
    "# Content-Based Recommendation Function\n",
    "def get_content_based_recommendations(movie_id, cosine_sim, top_n=10):\n",
    "    idx = movies[movies['movie_id'] == movie_id].index[0]\n",
    "    sim_scores = list(enumerate(cosine_sim[idx]))\n",
    "    sim_scores = sorted(sim_scores, key=lambda x: x[1], reverse=True)\n",
    "    sim_scores = sim_scores[1:top_n + 1]\n",
    "    movie_indices = [i[0] for i in sim_scores]\n",
    "    return movies.iloc[movie_indices][['movie_id', 'title', 'genres']]\n",
    "\n",
    "# Hybrid Recommendation Function\n",
    "def hybrid_recommendation(user_id, movie_id, alpha=0.5, top_n=5):\n",
    "    # Content-based scores\n",
    "    idx = movies[movies['movie_id'] == movie_id].index[0]\n",
    "    content_sim_scores = list(enumerate(cosine_sim[idx]))\n",
    "    content_sim_scores = sorted(content_sim_scores, key=lambda x: x[1], reverse=True)\n",
    "\n",
    "    # User-based similarity scores\n",
    "    user_idx = user_movie_interaction[user_movie_interaction.index == user_id].index[0]\n",
    "    user_sim_scores = cosine_similarity(user_movie_interaction.loc[user_idx].values.reshape(1, -1), user_movie_interaction.fillna(0))\n",
    "    user_sim_scores = user_sim_scores.flatten()\n",
    "\n",
    "    content_sim_scores = [score[1] for score in content_sim_scores]\n",
    "    content_sim_scores = [score / max(content_sim_scores) for score in content_sim_scores]\n",
    "    user_sim_scores = user_sim_scores.tolist()\n",
    "    user_sim_scores = [score / max(user_sim_scores) for score in user_sim_scores]\n",
    "\n",
    "    # Combine scores\n",
    "    hybrid_scores = []\n",
    "    for i, (content_score, user_score) in enumerate(zip(content_sim_scores, user_sim_scores)):\n",
    "        combined_score = alpha * content_score + (1 - alpha) * user_score\n",
    "        hybrid_scores.append((movies.iloc[i]['movie_id'], movies.iloc[i]['title'], combined_score))\n",
    "\n",
    "    hybrid_scores = sorted(hybrid_scores, key=lambda x: x[2], reverse=True)\n",
    "    return hybrid_scores[:top_n]\n",
    "\n",
    "# Function to Handle Cold Start (New User)\n",
    "def recommend_for_new_user(preferred_genres, language_preference, top_n=5):\n",
    "    filtered_movies = movies[movies[\"genres\"].apply(lambda x: any(genre in x for genre in preferred_genres))]\n",
    "    if language_preference:\n",
    "        filtered_movies = filtered_movies[filtered_movies[\"original_language\"] == language_preference]\n",
    "    return filtered_movies.sort_values(by=\"popularity\", ascending=False).head(top_n)\n",
    "\n",
    "# Flask app setup\n",
    "app = Flask(__name__)\n",
    "\n",
    "@app.route(\"/\")\n",
    "def home():\n",
    "    return render_template(\"index.html\")  # Serve the HTML page\n",
    "\n",
    "@app.route(\"/recommend\", methods=[\"GET\"])\n",
    "def recommend():\n",
    "    try:\n",
    "        # Get parameters from the URL\n",
    "        user_id = int(request.args.get(\"user_id\"))\n",
    "        movie_id = int(request.args.get(\"movie_id\"))\n",
    "        top_n = int(request.args.get(\"top_n\", 5))\n",
    "\n",
    "        # Log inputs for debugging\n",
    "        print(f\"Received request with user_id: {user_id}, movie_id: {movie_id}, top_n: {top_n}\")\n",
    "\n",
    "        # Check if the user exists in the users DataFrame\n",
    "        user = users[users[\"user_id\"] == user_id]\n",
    "        if user.empty:\n",
    "            print(f\"No user found with user_id {user_id}\")  # Log this error\n",
    "            return jsonify({\"message\": f\"No user found with user_id {user_id}\"}), 404\n",
    "\n",
    "        # Check if the movie exists in the movies DataFrame\n",
    "        movie = movies[movies[\"movie_id\"] == movie_id]\n",
    "        if movie.empty:\n",
    "            print(f\"No movie found with movie_id {movie_id}\")  # Log this error\n",
    "            return jsonify({\"message\": f\"No movie found with movie_id {movie_id}\"}), 404\n",
    "\n",
    "        # Get the liked_movies list for the user\n",
    "        liked_movies = user.iloc[0][\"liked_movies\"]\n",
    "        \n",
    "        if not liked_movies:\n",
    "            # Cold Start: New User (No watched history)\n",
    "            preferred_genres = [\"Action\", \"Comedy\"]  # This can be dynamic based on user data\n",
    "            language_preference = \"en\"\n",
    "            recommendations = recommend_for_new_user(preferred_genres, language_preference, top_n)\n",
    "            return jsonify({\"message\": \"New User - No watched history\", \"recommendations\": recommendations.to_dict(orient=\"records\")})\n",
    "\n",
    "        # Hybrid Recommendation\n",
    "        recommendations = hybrid_recommendation(user_id, movie_id, alpha=0.5, top_n=top_n)\n",
    "\n",
    "        # Convert the recommendation data to native Python types (e.g., int) to avoid JSON serialization issues\n",
    "        recommendations = [\n",
    "            {\n",
    "                \"movie_id\": int(movie[0]),  # Convert numpy.int64 to int\n",
    "                \"title\": movie[1],\n",
    "                \"combined_score\": movie[2]\n",
    "            }\n",
    "            for movie in recommendations\n",
    "        ]\n",
    "\n",
    "        return jsonify({\"user_id\": user_id, \"movie_id\": movie_id, \"recommendations\": recommendations})\n",
    "\n",
    "    except Exception as e:\n",
    "        # Log the error and provide detailed message\n",
    "        print(f\"Error occurred: {str(e)}\")  # This will print the error in the console/logs\n",
    "        return jsonify({\"error\": f\"An error occurred while fetching recommendations: {str(e)}\"}), 500\n",
    "\n",
    "@app.route(\"/movie-details\", methods=[\"GET\"])\n",
    "def movie_details():\n",
    "    try:\n",
    "        movie_id = int(request.args.get(\"movie_id\"))\n",
    "\n",
    "        # Check if the movie exists\n",
    "        movie = movies[movies[\"movie_id\"] == movie_id]\n",
    "        if movie.empty:\n",
    "            print(f\"No movie found with movie_id {movie_id}\")  # Log this error\n",
    "            return jsonify({\"message\": f\"No movie found with movie_id {movie_id}\"}), 404\n",
    "\n",
    "        # Fetch the movie details\n",
    "        movie_details = movie.iloc[0]\n",
    "\n",
    "        # Prepare the response data\n",
    "        response = {\n",
    "            \"title\": movie_details[\"title\"],\n",
    "            \"overview\": movie_details[\"overview\"],\n",
    "            \"genres\": movie_details[\"genres\"],\n",
    "            \"release_date\": movie_details[\"release_date\"],\n",
    "            \"original_language\": movie_details[\"original_language\"],\n",
    "            \"runtime\": movie_details[\"runtime\"]\n",
    "        }\n",
    "\n",
    "        return jsonify(response)\n",
    "\n",
    "    except Exception as e:\n",
    "        # Log the error and provide detailed message\n",
    "        print(f\"Error occurred: {str(e)}\")\n",
    "        return jsonify({\"error\": f\"An error occurred while fetching movie details: {str(e)}\"}), 500\n",
    "\n",
    "if __name__ == \"__main__\":\n",
    "    app.run(debug=True)\n"
   ]
  },
  {
   "cell_type": "code",
   "execution_count": null,
   "metadata": {},
   "outputs": [
    {
     "name": "stdout",
     "output_type": "stream",
     "text": [
      "0    0.252315\n",
      "1    0.206019\n",
      "2    0.000000\n",
      "3    0.000000\n",
      "4    0.317130\n",
      "Name: runtime, dtype: float64\n"
     ]
    },
    {
     "ename": "",
     "evalue": "",
     "output_type": "error",
     "traceback": [
      "\u001b[1;31mThe Kernel crashed while executing code in the current cell or a previous cell. \n",
      "\u001b[1;31mPlease review the code in the cell(s) to identify a possible cause of the failure. \n",
      "\u001b[1;31mClick <a href='https://aka.ms/vscodeJupyterKernelCrash'>here</a> for more info. \n",
      "\u001b[1;31mView Jupyter <a href='command:jupyter.viewOutput'>log</a> for further details."
     ]
    }
   ],
   "source": [
    "print(movies['runtime'].head())  # Check the first few rows to verify the data format"
   ]
  },
  {
   "cell_type": "code",
   "execution_count": null,
   "metadata": {},
   "outputs": [],
   "source": []
  }
 ],
 "metadata": {
  "kernelspec": {
   "display_name": "Python 3",
   "language": "python",
   "name": "python3"
  },
  "language_info": {
   "codemirror_mode": {
    "name": "ipython",
    "version": 3
   },
   "file_extension": ".py",
   "mimetype": "text/x-python",
   "name": "python",
   "nbconvert_exporter": "python",
   "pygments_lexer": "ipython3",
   "version": "3.10.9"
  }
 },
 "nbformat": 4,
 "nbformat_minor": 2
}
