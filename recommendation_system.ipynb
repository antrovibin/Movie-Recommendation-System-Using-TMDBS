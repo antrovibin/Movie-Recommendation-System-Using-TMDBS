{
 "cells": [
  {
   "cell_type": "code",
   "execution_count": 1,
   "metadata": {},
   "outputs": [],
   "source": [
    "import pandas as pd\n",
    "import numpy as np\n",
    "from sklearn.feature_extraction.text import TfidfVectorizer\n",
    "from sklearn.metrics.pairwise import cosine_similarity\n",
    "from scipy.sparse import coo_matrix\n",
    "from implicit.als import AlternatingLeastSquares\n",
    "from sklearn.model_selection import train_test_split\n",
    "from scipy.sparse.linalg import svds\n",
    "from scipy.sparse import csr_matrix"
   ]
  },
  {
   "cell_type": "code",
   "execution_count": 2,
   "metadata": {},
   "outputs": [],
   "source": [
    "data=pd.read_csv('/Users/antropravin/Desktop/Bezohminds/Task/Movie Recommendation System/Cleaned Movie Data.csv')"
   ]
  },
  {
   "cell_type": "code",
   "execution_count": 3,
   "metadata": {},
   "outputs": [
    {
     "name": "stdout",
     "output_type": "stream",
     "text": [
      "<class 'pandas.core.frame.DataFrame'>\n",
      "RangeIndex: 9880 entries, 0 to 9879\n",
      "Data columns (total 14 columns):\n",
      " #   Column                Non-Null Count  Dtype  \n",
      "---  ------                --------------  -----  \n",
      " 0   Unnamed: 0            9880 non-null   int64  \n",
      " 1   movie_id              9880 non-null   int64  \n",
      " 2   title                 9880 non-null   object \n",
      " 3   overview              9880 non-null   object \n",
      " 4   genres                9880 non-null   object \n",
      " 5   release_date          9880 non-null   object \n",
      " 6   release_year          9880 non-null   int64  \n",
      " 7   runtime               9880 non-null   int64  \n",
      " 8   original_language     9880 non-null   object \n",
      " 9   poster_path           9880 non-null   object \n",
      " 10  vote_average          9880 non-null   float64\n",
      " 11  vote_count            9880 non-null   int64  \n",
      " 12  popularity            9880 non-null   float64\n",
      " 13  production_companies  9880 non-null   object \n",
      "dtypes: float64(2), int64(5), object(7)\n",
      "memory usage: 1.1+ MB\n"
     ]
    }
   ],
   "source": [
    "data.info()"
   ]
  },
  {
   "cell_type": "code",
   "execution_count": 4,
   "metadata": {},
   "outputs": [],
   "source": [
    "data['combined_features']=data['genres']+' '+data['overview']+' '+data['production_companies']\n",
    "vectorizer=TfidfVectorizer(stop_words='english')\n",
    "featurematrix=vectorizer.fit_transform(data['combined_features'])"
   ]
  },
  {
   "cell_type": "code",
   "execution_count": 5,
   "metadata": {},
   "outputs": [
    {
     "name": "stdout",
     "output_type": "stream",
     "text": [
      "[[1.         0.         0.         ... 0.00466848 0.         0.        ]\n",
      " [0.         1.         0.04309514 ... 0.         0.         0.        ]\n",
      " [0.         0.04309514 1.         ... 0.0278917  0.         0.01019812]\n",
      " ...\n",
      " [0.00466848 0.         0.0278917  ... 1.         0.01966245 0.01789503]\n",
      " [0.         0.         0.         ... 0.01966245 1.         0.0045213 ]\n",
      " [0.         0.         0.01019812 ... 0.01789503 0.0045213  1.        ]]\n"
     ]
    }
   ],
   "source": [
    "cosine_sim=cosine_similarity(featurematrix,featurematrix)\n",
    "print(cosine_sim)"
   ]
  },
  {
   "cell_type": "code",
   "execution_count": 6,
   "metadata": {},
   "outputs": [
    {
     "name": "stdout",
     "output_type": "stream",
     "text": [
      "['The Night House', 'To All the Boys: P.S. I Still Love You', 'The Last Letter from Your Lover', \"To All the Boys I've Loved Before\", 'Rebecca', 'Companion', 'Scandal in Sorrento', 'Entrapment', 'Forever My Girl', 'Forever My Girl']\n"
     ]
    }
   ],
   "source": [
    "def content_based_recommendations(movie_title, n=10):\n",
    "    if movie_title not in data['title'].values:\n",
    "        return \"Movie Not Found\"\n",
    "    \n",
    "    movie_idx=data[data['title']==movie_title].index[0]\n",
    "    similarity_scores=list(enumerate(cosine_sim[movie_idx]))\n",
    "    similarity_scores=sorted(similarity_scores,key=lambda x: x[1], reverse=True)\n",
    "    recommended_movies=[data.iloc[i[0]]['title'] for i in similarity_scores[1:n+1]]\n",
    "    return recommended_movies\n",
    "print(content_based_recommendations('The Lake House'))"
   ]
  },
  {
   "cell_type": "code",
   "execution_count": null,
   "metadata": {},
   "outputs": [
    {
     "name": "stdout",
     "output_type": "stream",
     "text": [
      "['The Night House', 'To All the Boys: P.S. I Still Love You', 'The Last Letter from Your Lover', \"To All the Boys I've Loved Before\", 'Rebecca', 'Companion', 'Scandal in Sorrento', 'Entrapment', 'Forever My Girl', 'Forever My Girl']\n"
     ]
    }
   ],
   "source": [
    "vectorizer = TfidfVectorizer(stop_words='english')\n",
    "feature_matrix = vectorizer.fit_transform(data['combined_features'])\n",
    "item_sim_matrix = cosine_similarity(feature_matrix)\n",
    "def item_based_recommendations(movie_title, n=10):\n",
    "    if movie_title not in data['title'].values:\n",
    "        return \"Movie Not Found\"\n",
    "    movie_idx = data[data['title'] == movie_title].index[0]\n",
    "    similarity_scores = list(enumerate(item_sim_matrix[movie_idx]))\n",
    "    similarity_scores = sorted(similarity_scores, key=lambda x: x[1], reverse=True)\n",
    "    recommended_movies = [data.iloc[i[0]]['title'] for i in similarity_scores[1:n+1]]\n",
    "    return recommended_movies\n",
    "print(item_based_recommendations('The Lake House'))"
   ]
  },
  {
   "cell_type": "code",
   "execution_count": null,
   "metadata": {},
   "outputs": [
    {
     "name": "stdout",
     "output_type": "stream",
     "text": [
      "['The Night House', 'To All the Boys: P.S. I Still Love You', 'The Last Letter from Your Lover', \"To All the Boys I've Loved Before\", 'Rebecca', 'Companion', 'Scandal in Sorrento', 'Entrapment', 'Forever My Girl', 'Sherlock Holmes']\n"
     ]
    }
   ],
   "source": [
    "def hybrid_recommendations(movie_title, n=10, content_weight=0.5, item_weight=0.5):\n",
    "    if movie_title not in data['title'].values:\n",
    "        return \"Movie Not Found\"\n",
    "    content_recs = item_based_recommendations(movie_title, n * 2)\n",
    "    item_recs = item_based_recommendations(movie_title, n * 2)\n",
    "    recommendation_scores = {}\n",
    "    for i, movie in enumerate(content_recs):\n",
    "        recommendation_scores[movie] = recommendation_scores.get(movie, 0) + content_weight * (n - i)\n",
    "    for i, movie in enumerate(item_recs):\n",
    "        recommendation_scores[movie] = recommendation_scores.get(movie, 0) + item_weight * (n - i)\n",
    "    hybrid_recs = sorted(recommendation_scores.items(), key=lambda x: x[1], reverse=True)\n",
    "    return [movie[0] for movie in hybrid_recs[:n]]\n",
    "print(hybrid_recommendations('The Lake House'))\n"
   ]
  },
  {
   "cell_type": "code",
   "execution_count": null,
   "metadata": {},
   "outputs": [
    {
     "name": "stdout",
     "output_type": "stream",
     "text": [
      "['Beauty and the Beast', 'Anonymously Yours', \"A Hard Day's Night\", 'Notorious', 'Anastasia', \"The Devil's Bath\", \"Babette's Feast\", 'The Road', 'Osama', 'Call Jane']\n"
     ]
    }
   ],
   "source": [
    "data['user_id'] = np.random.randint(1, 1000, data.shape[0])\n",
    "ratings_matrix = data.pivot_table(index='user_id', columns='title', values='vote_average').fillna(0)\n",
    "sparse_ratings = csr_matrix(ratings_matrix.values)\n",
    "train_data, test_data = train_test_split(sparse_ratings, test_size=0.2, random_state=42) \n",
    "U, sigma, Vt = svds(train_data, k=50)\n",
    "sigma = np.diag(sigma)\n",
    "predicted_ratings = np.dot(np.dot(U, sigma), Vt)\n",
    "predictions_df = pd.DataFrame(predicted_ratings, columns=ratings_matrix.columns)\n",
    "def collaborative_recommendations(user_id, n=10):\n",
    "    if user_id not in predictions_df.index:\n",
    "        return \"User Not Found\"\n",
    "    user_ratings = predictions_df.iloc[user_id].sort_values(ascending=False)\n",
    "    return user_ratings.head(n).index.tolist()\n",
    "print(collaborative_recommendations(10))"
   ]
  },
  {
   "cell_type": "code",
   "execution_count": 31,
   "metadata": {},
   "outputs": [
    {
     "data": {
      "application/vnd.jupyter.widget-view+json": {
       "model_id": "50f68271ef004c80b3c1f2e20f4acfde",
       "version_major": 2,
       "version_minor": 0
      },
      "text/plain": [
       "  0%|          | 0/20 [00:00<?, ?it/s]"
      ]
     },
     "metadata": {},
     "output_type": "display_data"
    },
    {
     "name": "stdout",
     "output_type": "stream",
     "text": [
      "['Touch of Evil']\n"
     ]
    }
   ],
   "source": [
    "als_model = AlternatingLeastSquares(factors=50, regularization=0.1, iterations=20)\n",
    "alpha_val = 20 \n",
    "als_data = (sparse_ratings * alpha_val).astype('double')\n",
    "als_model.fit(als_data)\n",
    "def als_recommendations(user_id, n=10):\n",
    "    if user_id >= len(ratings_matrix):\n",
    "        return \"User Not Found\"\n",
    "    user_items = sparse_ratings[user_id]\n",
    "    recommendations = als_model.recommend(user_id, user_items, N=n * 2)\n",
    "    recommended_movies = [ratings_matrix.columns[int(item[0])] for item in recommendations]\n",
    "    filtered_movies = [movie for movie in recommended_movies if data.loc[data['title'] == movie, 'vote_count'].values[0] > 100]\n",
    "    return filtered_movies[:n]\n",
    "print(als_recommendations(10))"
   ]
  },
  {
   "cell_type": "code",
   "execution_count": null,
   "metadata": {},
   "outputs": [
    {
     "name": "stdout",
     "output_type": "stream",
     "text": [
      "['Touch of Evil', 'Beauty and the Beast', 'Anonymously Yours', \"A Hard Day's Night\", 'Notorious', 'Anastasia', \"The Devil's Bath\", \"Babette's Feast\", 'The Road', 'Osama']\n"
     ]
    }
   ],
   "source": [
    "def hybrid_recommendations(user_id, movie_title, n=10, als_weight=0.6, content_weight=0.4):\n",
    "    als_recs = als_recommendations(user_id, n * 2)\n",
    "    content_recs = collaborative_recommendations(user_id, n * 2)\n",
    "    \n",
    "    recommendation_scores = {}\n",
    "    for i, movie in enumerate(als_recs):\n",
    "        recommendation_scores[movie] = recommendation_scores.get(movie, 0) + als_weight * (n * 2 - i)\n",
    "    for i, movie in enumerate(content_recs):\n",
    "        recommendation_scores[movie] = recommendation_scores.get(movie, 0) + content_weight * (n * 2 - i)\n",
    "    hybrid_recs = sorted(recommendation_scores.items(), key=lambda x: x[1], reverse=True)\n",
    "    return [movie[0] for movie in hybrid_recs[:n]]\n",
    "print(hybrid_recommendations(10, 'The Lake House'))"
   ]
  },
  {
   "cell_type": "code",
   "execution_count": null,
   "metadata": {},
   "outputs": [
    {
     "name": "stdout",
     "output_type": "stream",
     "text": [
      "Not enough data to forecast popularity for Civil War\n"
     ]
    }
   ],
   "source": [
    "popularity_trend = data[['title', 'release_year', 'popularity']]\n",
    "popularity_trend = popularity_trend.groupby(['release_year', 'title']).mean().reset_index()\n",
    "def forecast_popularity(movie_title, steps=5):\n",
    "    movie_data = popularity_trend[popularity_trend['title'] == movie_title]\n",
    "    if len(movie_data) < 3:\n",
    "        return f\"Not enough data to forecast popularity for {movie_title}\"\n",
    "    \n",
    "    model = ARIMA(movie_data['popularity'], order=(5, 1, 0))\n",
    "    model_fit = model.fit()\n",
    "    forecast = model_fit.forecast(steps=steps)\n",
    "    \n",
    "    plt.plot(range(len(movie_data['popularity'])), movie_data['popularity'], label='History')\n",
    "    plt.plot(range(len(movie_data['popularity']), len(movie_data['popularity']) + steps), forecast, label='Forecast', color='red')\n",
    "    plt.legend()\n",
    "    plt.title(f\"Popularity Forecast for {movie_title}\")\n",
    "    plt.show()\n",
    "    \n",
    "    return forecast.tolist()\n",
    "print(forecast_popularity('Civil War'))"
   ]
  },
  {
   "cell_type": "code",
   "execution_count": null,
   "metadata": {},
   "outputs": [
    {
     "name": "stdout",
     "output_type": "stream",
     "text": [
      "[3.568, 3.6169021967684816, 3.6658043935369635, 3.714706590305445, 3.7636087870739265]\n"
     ]
    }
   ],
   "source": [
    "popularity_trend = data[['title', 'release_year', 'popularity']]\n",
    "popularity_trend = popularity_trend.groupby(['release_year', 'title']).mean().reset_index()\n",
    "overall_popularity_trend = popularity_trend.groupby('release_year')['popularity'].mean().diff().mean()\n",
    "def forecast_popularity(movie_title, steps=5):\n",
    "    movie_data = popularity_trend[popularity_trend['title'] == movie_title]\n",
    "    if len(movie_data) < 3:\n",
    "        if len(movie_data) == 1:\n",
    "            base_popularity = movie_data['popularity'].values[0]\n",
    "            return [base_popularity + overall_popularity_trend * i for i in range(steps)]\n",
    "        elif len(movie_data) == 2:\n",
    "            growth = movie_data['popularity'].values[1] - movie_data['popularity'].values[0]\n",
    "            return [movie_data['popularity'].values[-1] + growth * i for i in range(1, steps + 1)]\n",
    "        return f\"Not enough data to forecast popularity for {movie_title}\"\n",
    "    \n",
    "    model = ARIMA(movie_data['popularity'], order=(5, 1, 0))\n",
    "    model_fit = model.fit()\n",
    "    forecast, stderr, conf_int = model_fit.forecast(steps=steps, alpha=0.05)\n",
    "    plt.plot(range(len(movie_data['popularity'])), movie_data['popularity'], label='History')\n",
    "    plt.plot(range(len(movie_data['popularity']), len(movie_data['popularity']) + steps), forecast, label='Forecast', color='red')\n",
    "    plt.fill_between(range(len(movie_data['popularity']), len(movie_data['popularity']) + steps),\n",
    "                     conf_int[:, 0], conf_int[:, 1], color='pink', alpha=0.3, label='95% Confidence Interval')\n",
    "    plt.legend()\n",
    "    plt.title(f\"Popularity Forecast for {movie_title}\")\n",
    "    plt.show()\n",
    "    return forecast.tolist()\n",
    "print(forecast_popularity('The Lake House'))"
   ]
  },
  {
   "cell_type": "code",
   "execution_count": null,
   "metadata": {},
   "outputs": [],
   "source": []
  }
 ],
 "metadata": {
  "kernelspec": {
   "display_name": "Python 3",
   "language": "python",
   "name": "python3"
  },
  "language_info": {
   "codemirror_mode": {
    "name": "ipython",
    "version": 3
   },
   "file_extension": ".py",
   "mimetype": "text/x-python",
   "name": "python",
   "nbconvert_exporter": "python",
   "pygments_lexer": "ipython3",
   "version": "3.10.9"
  }
 },
 "nbformat": 4,
 "nbformat_minor": 2
}
